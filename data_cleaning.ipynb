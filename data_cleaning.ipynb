{
 "cells": [
  {
   "cell_type": "code",
   "execution_count": null,
   "metadata": {},
   "outputs": [],
   "source": [
    "# Import necessary libraries \n",
    "import matplotlib.pyplot as plt\n",
    "import seaborn as sns\n",
    "import networkx as nx\n",
    "import numpy as np\n",
    "import pandas as pd\n",
    "import pickle\n",
    "from sklearn.impute import KNNImputer\n",
    "from sklearn.model_selection import train_test_split"
   ]
  },
  {
   "cell_type": "code",
   "execution_count": null,
   "metadata": {},
   "outputs": [],
   "source": [
    "# Import dataset\n",
    "df = pd.read_csv('../Processed datasets/Before splitting/DF_with_target.csv')"
   ]
  },
  {
   "cell_type": "code",
   "execution_count": null,
   "metadata": {},
   "outputs": [],
   "source": [
    "# Drop duplicates in the dataset \n",
    "df = df.drop_duplicates()"
   ]
  },
  {
   "cell_type": "markdown",
   "metadata": {},
   "source": [
    "#### Create overview of participant charachteristics"
   ]
  },
  {
   "cell_type": "code",
   "execution_count": null,
   "metadata": {},
   "outputs": [],
   "source": [
    "# Create a dataframe consisting of the basic characteristics of the participants \n",
    "basics_target = df[['YOB_C', 'ETHN_DS', 'SEX', 'diabetic_outcome']].copy()"
   ]
  },
  {
   "cell_type": "code",
   "execution_count": null,
   "metadata": {},
   "outputs": [],
   "source": [
    "# Derive the age of participants based on their year of birth\n",
    "basics_target.loc[:,'AGE_PHASE_9'] = 2008 - (basics_target.loc[:,'YOB_C'] + 1900)\n",
    "\n",
    "# Plot the age of participants with a histogram\n",
    "ax = basics_target['AGE_PHASE_9'].plot.hist(bins=23, grid=True, rwidth=0.9, \n",
    "                                 color='gray')\n",
    "\n",
    "ax.yaxis.grid(True)\n",
    "ax.xaxis.grid(False)\n",
    "\n",
    "plt.title('Histogram of Participant Age in 2008')\n",
    "plt.xlabel('Age')\n",
    "plt.ylabel('Counts')\n",
    "plt.grid(axis='y', alpha=0.75)"
   ]
  },
  {
   "cell_type": "code",
   "execution_count": null,
   "metadata": {},
   "outputs": [],
   "source": [
    "# Print the ehtnicity, gender and diabetic outcome distributions\n",
    "print(basics_target['ETHN_DS'].value_counts())\n",
    "print(basics_target['SEX'].value_counts())\n",
    "print(basics_target['diabetic_outcome'].value_counts())"
   ]
  },
  {
   "cell_type": "code",
   "execution_count": null,
   "metadata": {},
   "outputs": [],
   "source": [
    "# Print the number of rows, number of columns,  and datatypes\n",
    "print('Number of rows:', df.shape[0])\n",
    "print('Number of columns:', df.shape[1])\n",
    "print('Column Data Types:', df.dtypes)"
   ]
  },
  {
   "cell_type": "markdown",
   "metadata": {},
   "source": [
    "#### Remove features used during target creation"
   ]
  },
  {
   "cell_type": "code",
   "execution_count": null,
   "metadata": {},
   "outputs": [],
   "source": [
    "# Make a list of columns that were used for creating the target \n",
    "used_target_creation =[ 'JDIABYR',\"JDRG0611\",\"JDRG6112\", \n",
    "                       \"JDRG6110\", \"JDRG6111\", \"JDRG0612\", \n",
    "                       \"JDRG6122\", \"JDRG6120\", \"JDRG6123\", \n",
    "                       \"JDRG6121\", \"JHBA\"]"
   ]
  },
  {
   "cell_type": "code",
   "execution_count": null,
   "metadata": {},
   "outputs": [],
   "source": [
    "# Delete the columns that were used for creating the target \n",
    "for col in used_target_creation:\n",
    "    if col in df.columns:\n",
    "        df = df.drop(col, axis=1)"
   ]
  },
  {
   "cell_type": "code",
   "execution_count": null,
   "metadata": {},
   "outputs": [],
   "source": [
    "# Make a list of features that provide direct information about the outcome \n",
    "diabetes_features = ['JDMKNOWN',  'JDIABDR1', 'JDIABDR2', 'JDIABDR3', 'JDIABDR4',\n",
    "                      'JDMKNCUM',  'JDMADATO', 'JDMWHOTO', 'JDMINCUM', \n",
    "                     'JDRG611', 'JDRG612', 'JDIABDRG', 'JPRDIADR','JINCLAU_L', 'JDRG22', \n",
    "                     'JDRG25', 'JDRG66', 'JDRG255', 'JDRG412', 'JDRG29', 'JDRG26', 'JLIPDRG', \n",
    "                     'JDIABET' , 'JDIABET1', 'JHRSFAST', 'JFASTING', 'JDMGCL2H', 'JDMGCL_F', \n",
    "                     'JGLUC_F', 'JINSU_F', 'MTIMGLU','JFASTED', 'JTIMGLU','JFOODYT', 'JFAINTED' , \n",
    "                     'JBLTRIES','JTIMSMP1', 'JTIMSMP2']"
   ]
  },
  {
   "cell_type": "code",
   "execution_count": null,
   "metadata": {},
   "outputs": [],
   "source": [
    "# Drop the features that provide direct information about the outcome\n",
    "for col in diabetes_features:\n",
    "    if col in df.columns:\n",
    "        df = df.drop(col, axis=1)"
   ]
  },
  {
   "cell_type": "code",
   "execution_count": null,
   "metadata": {},
   "outputs": [],
   "source": [
    "# Delete all the people that have diabetes type 1, only have diabetes  type 2 in phase 9, or have diabetes type 2 in both phase 9 and 11 \n",
    "non_diabetes_type_134_rows = ((df['diabetic_outcome'] != 1) & (df['diabetic_outcome'] != 3) & (df['diabetic_outcome'] != 4))\n",
    "df = df[non_diabetes_type_134_rows]"
   ]
  },
  {
   "cell_type": "markdown",
   "metadata": {},
   "source": [
    "### Get an overview of percentage of missing values per feature"
   ]
  },
  {
   "cell_type": "code",
   "execution_count": null,
   "metadata": {},
   "outputs": [],
   "source": [
    "# Define a function that calculates the percentage of missing values per column\n",
    "def missing_values_columns(dataframe):\n",
    "    percent_missing = dataframe.isnull().sum()*100/len(dataframe)\n",
    "    missing_value_df = pd.DataFrame({'column_name':dataframe.columns,\n",
    "                                     'percent_missing':percent_missing})\n",
    "    \n",
    "    missing_value_df.sort_values('percent_missing', inplace=True)\n",
    "    return missing_value_df"
   ]
  },
  {
   "cell_type": "code",
   "execution_count": null,
   "metadata": {},
   "outputs": [],
   "source": [
    "# Create a dataframe that presents the percentage of missing values per column \n",
    "missing_df = missing_values_columns(df)"
   ]
  },
  {
   "cell_type": "code",
   "execution_count": null,
   "metadata": {},
   "outputs": [],
   "source": [
    "# Plot the missing data as a histogram \n",
    "missing_df['percent_missing'].hist(bins=100)\n",
    "plt.title('Histogram to visualize % missing data of columns')\n",
    "plt.xlabel('Percentage of data missing')\n",
    "plt.ylabel('Number of columns')\n",
    "plt.show()"
   ]
  },
  {
   "cell_type": "markdown",
   "metadata": {},
   "source": [
    "#### Handle the missing values for the basic data"
   ]
  },
  {
   "cell_type": "code",
   "execution_count": null,
   "metadata": {},
   "outputs": [],
   "source": [
    "# Create a dataframe with only the basic characteristics\n",
    "basics = df[['YOB_C', 'ETHN_DS', 'SEX']]"
   ]
  },
  {
   "cell_type": "code",
   "execution_count": null,
   "metadata": {},
   "outputs": [],
   "source": [
    "# Print the amount of missing values per column\n",
    "basics.isna().sum()"
   ]
  },
  {
   "cell_type": "code",
   "execution_count": null,
   "metadata": {},
   "outputs": [],
   "source": [
    "# Replace the missing values with a 1, equalling white \n",
    "df['ETHN_DS'] = df['ETHN_DS'].fillna(1)"
   ]
  },
  {
   "cell_type": "markdown",
   "metadata": {},
   "source": [
    "#### Create function to remove columns with a lot of missing values"
   ]
  },
  {
   "cell_type": "code",
   "execution_count": null,
   "metadata": {},
   "outputs": [],
   "source": [
    "# Create a function that removes the features with missing data above a chosen threshold \n",
    "def remove_columns_with_missing_values(dataframe, missing_values_dataframe, threshold):\n",
    "    remove = missing_values_dataframe[missing_values_dataframe.iloc[:, 1]>threshold].iloc[:,0].tolist()\n",
    "    print(\"The number of columns that will be removed is\",len(remove))\n",
    "    dataframe = dataframe.drop(columns=remove)\n",
    "    return dataframe "
   ]
  },
  {
   "cell_type": "markdown",
   "metadata": {},
   "source": [
    "#### Drop rows with only missing values"
   ]
  },
  {
   "cell_type": "code",
   "execution_count": null,
   "metadata": {},
   "outputs": [],
   "source": [
    "df = df.dropna(axis=1, how='all')"
   ]
  },
  {
   "cell_type": "markdown",
   "metadata": {},
   "source": [
    "#### Check for columns with only 1 possible value"
   ]
  },
  {
   "cell_type": "code",
   "execution_count": null,
   "metadata": {},
   "outputs": [],
   "source": [
    "# Check if there are features that only have 1 possible value as these are deemed useless for prediction \n",
    "one_value_features = []\n",
    "\n",
    "for column in df.columns:\n",
    "    if df[column].nunique() == 1:\n",
    "        one_value_features.append(column)\n",
    "\n",
    "one_value_features"
   ]
  },
  {
   "cell_type": "code",
   "execution_count": null,
   "metadata": {},
   "outputs": [],
   "source": [
    "# Create a function that removes a list of columns from a dataframe\n",
    "def remove_columns(df, list):\n",
    "    return df.drop(columns=list, inplace=False)"
   ]
  },
  {
   "cell_type": "code",
   "execution_count": null,
   "metadata": {},
   "outputs": [],
   "source": [
    "# Remove all features that have the same value for all participants\n",
    "df = remove_columns(df, one_value_features)"
   ]
  },
  {
   "cell_type": "markdown",
   "metadata": {},
   "source": [
    "#### Divide the dataframe into multiple dataframes corresponding to the type of question (questionnaire, FFQ, clinical events and clinical measures)"
   ]
  },
  {
   "cell_type": "code",
   "execution_count": null,
   "metadata": {},
   "outputs": [],
   "source": [
    "# Load dictionary from files to use\n",
    "with open('../Processed datasets/Before splitting/feature_dictionary.pkl', 'rb') as f:\n",
    "    columns_whitehall = pickle.load(f)"
   ]
  },
  {
   "cell_type": "code",
   "execution_count": null,
   "metadata": {},
   "outputs": [],
   "source": [
    "# Create a function that creates seperate dataframes based on the feature dictionary\n",
    "def create_dataframes_from_dict(df, feature_dict):\n",
    "    result_dataframes = {}\n",
    "    for key, columns in feature_dict.items():\n",
    "        valid_columns = ['Id_random_DPUK'] + [column for column in columns if column in df.columns]\n",
    "        if valid_columns:\n",
    "            result_dataframes[key] = df[valid_columns]\n",
    "    return result_dataframes"
   ]
  },
  {
   "cell_type": "code",
   "execution_count": null,
   "metadata": {},
   "outputs": [],
   "source": [
    "# Apply function to arrive multiple seperate dataframes for further cleaning\n",
    "result_dataframes = create_dataframes_from_dict(df, columns_whitehall)"
   ]
  },
  {
   "cell_type": "code",
   "execution_count": null,
   "metadata": {},
   "outputs": [],
   "source": [
    "# Retrieve datasets from created dictionary using the keys \n",
    "questionnaire_data = result_dataframes.get(\"questionnaire_fts\")\n",
    "FFQ_data = result_dataframes.get(\"FFQ_fts\")\n",
    "clinical_measure_data = result_dataframes.get('clinical_measures_fts')\n",
    "clinical_events_data = result_dataframes.get('clinical_events_fts')"
   ]
  },
  {
   "cell_type": "code",
   "execution_count": null,
   "metadata": {},
   "outputs": [],
   "source": [
    "# Create a list with all columns from the FFQ data\n",
    "FFQ_columns = FFQ_data.columns.tolist()"
   ]
  },
  {
   "cell_type": "code",
   "execution_count": null,
   "metadata": {},
   "outputs": [],
   "source": [
    "# Remove the administrative variables from the list \n",
    "admin = ['Id_random_DPUK','JFFQDOC','JFFQDOR']\n",
    "for item in admin:\n",
    "    FFQ_columns.remove(item)\n",
    "    \n",
    "# Remove participants that did not fill in the FFQ \n",
    "FFQ_data = FFQ_data.dropna(subset=FFQ_columns, how='all')\n",
    "df = df.dropna(subset=FFQ_columns, how='all')"
   ]
  },
  {
   "cell_type": "code",
   "execution_count": null,
   "metadata": {},
   "outputs": [],
   "source": [
    "# Print the ehtnicity, gender and diabetic outcome distributions\n",
    "print(df['ETHN_DS'].value_counts())\n",
    "print(df['SEX'].value_counts())\n",
    "print(df['diabetic_outcome'].value_counts())"
   ]
  },
  {
   "cell_type": "code",
   "execution_count": null,
   "metadata": {},
   "outputs": [],
   "source": [
    "# Derive the age of participants based on their year of birth\n",
    "basics_target.loc[:,'AGE_PHASE_9'] = 2008 - (basics_target.loc[:,'YOB_C'] + 1900)\n",
    "\n",
    "# Plot the age of participants with a histogram\n",
    "ax = basics_target['AGE_PHASE_9'].plot.hist(bins=23, grid=True, rwidth=0.9, \n",
    "                                 color='gray')\n",
    "\n",
    "ax.yaxis.grid(True)\n",
    "ax.xaxis.grid(False)\n",
    "\n",
    "plt.title('Histogram of Participant Age in 2008')\n",
    "plt.xlabel('Age')\n",
    "plt.ylabel('Counts')\n",
    "plt.grid(axis='y', alpha=0.75)"
   ]
  },
  {
   "cell_type": "markdown",
   "metadata": {},
   "source": [
    "#### Questionnaire data"
   ]
  },
  {
   "cell_type": "code",
   "execution_count": null,
   "metadata": {},
   "outputs": [],
   "source": [
    "missing_df_questionnaire = missing_values_columns(questionnaire_data)\n",
    "missing_df_questionnaire['percent_missing'].hist(bins=100)"
   ]
  },
  {
   "cell_type": "code",
   "execution_count": null,
   "metadata": {},
   "outputs": [],
   "source": [
    "# Sort the dataframe to determine which column has the most missing data \n",
    "missing_df_questionnaire.sort_values(by=['percent_missing'], ascending=False)"
   ]
  },
  {
   "cell_type": "markdown",
   "metadata": {},
   "source": [
    "#### Medical consultation"
   ]
  },
  {
   "cell_type": "code",
   "execution_count": null,
   "metadata": {},
   "outputs": [],
   "source": [
    "questionnaire_data_processed = questionnaire_data.copy()"
   ]
  },
  {
   "cell_type": "code",
   "execution_count": null,
   "metadata": {},
   "outputs": [],
   "source": [
    "# Create a function that applies a specified value to a column if a set of specific other columns are all NaNs\n",
    "def assign_value_based_on_nan(df, column_list, target_column, value):\n",
    "    df_modified = df.copy()\n",
    "    condition = df_modified[column_list].isna().all(axis=1)\n",
    "    df_modified.loc[condition, target_column] = value \n",
    "    return df_modified"
   ]
  },
  {
   "cell_type": "code",
   "execution_count": null,
   "metadata": {},
   "outputs": [],
   "source": [
    "# Assign the value 2, equalling no, to the longstanding illness question if all follow-up questions were left unanswered \n",
    "medical_conditions = ['JLONGIL1','JLONGIL2', 'JLONGIL3', 'JLONGIL4',\n",
    "                      'JLONGIL5','JLONGIL6', 'JLONGIL7', 'JLONGIL8',\n",
    "                      'JLONGIL9', 'JLONGL10' ]\n",
    "\n",
    "questionnaire_data_processed = assign_value_based_on_nan(questionnaire_data_processed, medical_conditions, 'JLONGILL', 2)\n",
    "df = assign_value_based_on_nan(df, medical_conditions, 'JLONGILL', 2)"
   ]
  },
  {
   "cell_type": "markdown",
   "metadata": {},
   "source": [
    "#### Medicine"
   ]
  },
  {
   "cell_type": "code",
   "execution_count": null,
   "metadata": {},
   "outputs": [],
   "source": [
    "# Create a function that creates list based on the first few characters of a feature \n",
    "def extract_strings_starting_with(dataframe, column, string):\n",
    "    filtered_series = dataframe[dataframe[column].astype(str).str.startswith(string)][column]\n",
    "    result_list = filtered_series.tolist()\n",
    "    return result_list"
   ]
  },
  {
   "cell_type": "code",
   "execution_count": null,
   "metadata": {},
   "outputs": [],
   "source": [
    "# Create a function that can be used to filter a list \n",
    "def filter_list(list, starts_with):\n",
    "    filtered_list = [s for s in list if any(s.startswith(start) for start in starts_with)]\n",
    "    return filtered_list"
   ]
  },
  {
   "cell_type": "code",
   "execution_count": null,
   "metadata": {},
   "outputs": [],
   "source": [
    "# Extract all features related to medicine by filtering on JPR\n",
    "JPR_list = extract_strings_starting_with(missing_df_questionnaire, 'column_name', 'JPR')"
   ]
  },
  {
   "cell_type": "code",
   "execution_count": null,
   "metadata": {},
   "outputs": [],
   "source": [
    "# Extract the open questions from the list of features related to medicine\n",
    "open_questions = filter_list(JPR_list, ['JPRESD', 'JPRSDR'])"
   ]
  },
  {
   "cell_type": "code",
   "execution_count": null,
   "metadata": {},
   "outputs": [],
   "source": [
    "# Remove one feature that is not an open question\n",
    "open_questions.remove('JPRESDOC')"
   ]
  },
  {
   "cell_type": "code",
   "execution_count": null,
   "metadata": {},
   "outputs": [],
   "source": [
    "# Set 'have you been taking any medicines' to 2 (no) if all the follow up questions are unanswered \n",
    "questionnaire_data_processed = assign_value_based_on_nan(questionnaire_data_processed, open_questions, 'JPRESDOC', 2)\n",
    "df = assign_value_based_on_nan(df, open_questions, 'JPRESDOC', 2)"
   ]
  },
  {
   "cell_type": "code",
   "execution_count": null,
   "metadata": {},
   "outputs": [],
   "source": [
    "# Drop the open questions \n",
    "questionnaire_data_processed = questionnaire_data_processed.drop(columns=open_questions)\n",
    "df = df.drop(columns=open_questions)"
   ]
  },
  {
   "cell_type": "markdown",
   "metadata": {},
   "source": [
    "#### Chest pain"
   ]
  },
  {
   "cell_type": "code",
   "execution_count": null,
   "metadata": {},
   "outputs": [],
   "source": [
    "# Create a function that assigns the value 2 (no) to a set of columns if the value of a specified column equals a specified value \n",
    "def set_columns_to_two(dataframe, condition_column, target_columns, value):\n",
    "    condition_met = dataframe[condition_column] == value\n",
    "    cond_target = dataframe[target_columns].isna().all(axis=1)\n",
    "    dataframe.loc[condition_met & cond_target, target_columns] = 2 \n",
    "    return dataframe"
   ]
  },
  {
   "cell_type": "code",
   "execution_count": null,
   "metadata": {},
   "outputs": [],
   "source": [
    "# Create a function that sets specified columns to 0 based on a whether a specified columns equals a set value  \n",
    "def set_columns_to_zero(dataframe, condition_column, target_columns, value):\n",
    "    condition_met = dataframe[condition_column] == value\n",
    "    cond_target = dataframe[target_columns].isna().all(axis=1)\n",
    "    dataframe.loc[condition_met & cond_target, target_columns] = 0 \n",
    "    return dataframe"
   ]
  },
  {
   "cell_type": "code",
   "execution_count": null,
   "metadata": {},
   "outputs": [],
   "source": [
    "# Create a list of questions that are follow-up questions of the question asking whether someone has pain in their chest\n",
    "follow_up_questions_chest_pain = ['JCHPUPH', 'JCHPLEV', 'JCHPACT', 'JCHPSTOP', 'JCHPTIME', 'JCHPDOC', 'JCHPNUM']\n",
    "\n",
    "# Set the answer to the quetion to 2 (no) if all follow-up questions were left unanswered \n",
    "questionnaire_data_processed = set_columns_to_zero(questionnaire_data_processed, 'JCHPAIN',follow_up_questions_chest_pain ,2)\n",
    "df = set_columns_to_zero(df,'JCHPAIN' , follow_up_questions_chest_pain, 2)"
   ]
  },
  {
   "cell_type": "code",
   "execution_count": null,
   "metadata": {},
   "outputs": [],
   "source": [
    "# Set the answer to JCHPEXT to 2 (no) if the answer to JCHPAIN was 2 (no), because participants were asked to skip that question in that case\n",
    "questionnaire_data_processed = set_columns_to_two(questionnaire_data_processed, 'JCHPAIN',['JCHPEXT'] ,2)\n",
    "df = set_columns_to_two(df,'JCHPAIN',['JCHPEXT'], 2)"
   ]
  },
  {
   "cell_type": "code",
   "execution_count": null,
   "metadata": {},
   "outputs": [],
   "source": [
    "# Set the question about severe pain across the front of the chest to 2 (no) if the follow up questions were left unanswered\n",
    "follow_up_questions_chest_pain = ['JCHPDOC', 'JCHPNUM']\n",
    "questionnaire_data_processed = assign_value_based_on_nan(questionnaire_data_processed, follow_up_questions_chest_pain, 'JCHPEXT', 2)\n",
    "df = assign_value_based_on_nan(df, follow_up_questions_chest_pain, 'JCHPEXT', 2)"
   ]
  },
  {
   "cell_type": "code",
   "execution_count": null,
   "metadata": {},
   "outputs": [],
   "source": [
    "# Set the number of pain attacks to 0 if someone answered 2 (no) to having severe pain across the chest \n",
    "questionnaire_data_processed = set_columns_to_zero(questionnaire_data_processed, 'JCHPEXT',follow_up_questions_chest_pain ,2)\n",
    "df = set_columns_to_zero(df,'JCHPEXT', follow_up_questions_chest_pain, 2)"
   ]
  },
  {
   "cell_type": "code",
   "execution_count": null,
   "metadata": {},
   "outputs": [],
   "source": [
    "# Create list of open questions related to chest pain\n",
    "open_questions_chest_pain = ['JCHPSIT1', 'JCHPSIT2', 'JCHPSIT3', 'JCHPSIT4', \n",
    "                             'JCHPSIT5', 'JCHPSIT6', 'JCHPSIT7', 'JCHPSIT8', \n",
    "                             'JCHPSIT9', 'JCHPDIAG']\n",
    "\n",
    "# Delete the open questions about chest pain\n",
    "for col in open_questions_chest_pain:\n",
    "    if col in questionnaire_data_processed.columns:\n",
    "        questionnaire_data_processed = questionnaire_data_processed.drop(col, axis=1)\n",
    "        df = df.drop(col, axis=1)"
   ]
  },
  {
   "cell_type": "markdown",
   "metadata": {},
   "source": [
    "#### Test and treaments"
   ]
  },
  {
   "cell_type": "code",
   "execution_count": null,
   "metadata": {},
   "outputs": [],
   "source": [
    "# If someone was redirected to question 106, the answer to the skipped questions is set to 0 (a new category)\n",
    "questionnaire_data_processed.loc[(questionnaire_data_processed['JLR2005'] == 1) & (questionnaire_data_processed['JLRCLGD'].isna()), 'JLRCLGD'] = 0\n",
    "df.loc[(df['JLR2005'] == 1) & (df['JLRCLGD'].isna()), 'JLRCLGD'] = 0"
   ]
  },
  {
   "cell_type": "code",
   "execution_count": null,
   "metadata": {},
   "outputs": [],
   "source": [
    "# If someone has no first treatment, there was also not a second treatment \n",
    "questionnaire_data_processed.loc[(questionnaire_data_processed['JEXECG1'] == 2) & (questionnaire_data_processed['JEXECG2'].isna()), 'JEXECG2'] = 2\n",
    "df.loc[(df['JEXECG1'] == 2) & (df['JEXECG2'].isna()), 'JEXECG2'] = 2\n",
    "\n",
    "questionnaire_data_processed.loc[(questionnaire_data_processed['JAGRAM1'] == 2) & (questionnaire_data_processed['JAGRAM2'].isna()), 'JAGRAM2'] = 2\n",
    "df.loc[(df['JAGRAM1'] == 2) & (df['JAGRAM2'].isna()), 'JAGRAM2'] = 2\n",
    "\n",
    "questionnaire_data_processed.loc[(questionnaire_data_processed['JAPLAS1'] == 2) & (questionnaire_data_processed['JAPLAS2'].isna()), 'JAPLAS2'] = 2\n",
    "df.loc[(df['JAPLAS1'] == 2) & (df['JAPLAS2'].isna()), 'JAPLAS2'] = 2\n",
    "\n",
    "questionnaire_data_processed.loc[(questionnaire_data_processed['JADMCH1'] == 2) & (questionnaire_data_processed['JADMCH2'].isna()), 'JADMCH2'] = 2\n",
    "df.loc[(df['JADMCH1'] == 2) & (df['JADMCH2'].isna()), 'JADMCH2'] = 2"
   ]
  },
  {
   "cell_type": "code",
   "execution_count": null,
   "metadata": {},
   "outputs": [],
   "source": [
    "# Set all remaining NaNs to 2, assuming that people who did not answer did not have treament \n",
    "test_and_treatments = ['JEXECG1', 'JEXECG2', \n",
    "                       'JAGRAM1', 'JAGRAM2', \n",
    "                       'JADMCH1', 'JADMCH2',\n",
    "                       'JAPLAS1', 'JAPLAS2',\n",
    "                       'JCABG1' ]\n",
    "\n",
    "for column in test_and_treatments:\n",
    "    questionnaire_data_processed[column] =  questionnaire_data_processed[column].fillna(2)\n",
    "    df[column] = df[column].fillna(2)"
   ]
  },
  {
   "cell_type": "code",
   "execution_count": null,
   "metadata": {},
   "outputs": [],
   "source": [
    "# Create a list of all open questions related to treatment \n",
    "open_questions_treatments = ['JEXECGY1', 'JEXECGY2', \n",
    "                       'JAGRAMY1', 'JAGRAMY2', \n",
    "                       'JADMCHY1', 'JADMCHY2',\n",
    "                       'JAPLASY1', 'JAPLASY2',\n",
    "                       'JCABGY1','JCABGY2',\n",
    "                       'JOHTOAY1','JOHTOAT1', \n",
    "                       'JOHTOAT2', 'JOHTOAT3', \n",
    "                       'JOHTOAT4', 'JOHTOAT5']\n",
    "\n",
    "# Delete all the open questions related to treatment\n",
    "for col in open_questions_treatments:\n",
    "    if col in questionnaire_data_processed.columns:\n",
    "        questionnaire_data_processed = questionnaire_data_processed.drop(col, axis=1)\n",
    "        df = df.drop(col, axis=1)"
   ]
  },
  {
   "cell_type": "markdown",
   "metadata": {},
   "source": [
    "#### Angina"
   ]
  },
  {
   "cell_type": "code",
   "execution_count": null,
   "metadata": {},
   "outputs": [],
   "source": [
    "# Create a list of open questions related to angina\n",
    "open_questions_angina = ['JOHTDX1']\n",
    "\n",
    "# Assign a 2 (no) to the question about whether someone had heart trouble if the follow-up questions were left unanswered \n",
    "questionnaire_data_processed = assign_value_based_on_nan(questionnaire_data_processed, open_questions_angina, 'JOHT', 2)\n",
    "df = assign_value_based_on_nan(df, open_questions_angina, 'JOHT', 2)"
   ]
  },
  {
   "cell_type": "markdown",
   "metadata": {},
   "source": [
    "#### Hospital admittance"
   ]
  },
  {
   "cell_type": "code",
   "execution_count": null,
   "metadata": {},
   "outputs": [],
   "source": [
    "# Create a list of open questions about hospital admittance \n",
    "open_questions_admittance = ['JHS1RSN', 'JHS2RSN', 'JHS3RSN', 'JHS4RSN',\n",
    "                         'JHS1MNTH', 'JHS2MNTH', 'JHS3MNTH', 'JHS4MNTH', \n",
    "                         'JHS1YR', 'JHS2YR', 'JHS3YR', 'JHS4YR']\n",
    "\n",
    "\n",
    "# Assign a 2 (no) to the question about hospital admittance if the follow-up questions were left unanswered \n",
    "questionnaire_data_processed = assign_value_based_on_nan(questionnaire_data_processed, open_questions_admittance, 'JOHT', 2)\n",
    "df = assign_value_based_on_nan(df, open_questions_admittance, 'JOHT', 2)"
   ]
  },
  {
   "cell_type": "code",
   "execution_count": null,
   "metadata": {},
   "outputs": [],
   "source": [
    "# Set the number of hospital admittance to 0 if someone answered not to been admitted to the hospital\n",
    "questionnaire_data_processed = set_columns_to_zero(questionnaire_data_processed, 'JHSADMYR', ['JHSADMNO'], 2)\n",
    "df = set_columns_to_zero(df, 'JHSADMYR', ['JHSADMNO'], 2)"
   ]
  },
  {
   "cell_type": "markdown",
   "metadata": {},
   "source": [
    "#### Neurological symptoms"
   ]
  },
  {
   "cell_type": "code",
   "execution_count": null,
   "metadata": {},
   "outputs": [],
   "source": [
    "# Create a list of open questions related to neurological symptoms \n",
    "open_questions_neurological = ['JNSTAM1', 'JNSTAY1', 'JNSTAM2', 'JNSTAY2']\n",
    "\n",
    "# Set the answer to the question about whether someone has been treated by a docter to 2 (no) if the follow-up quesitons were left unanswered \n",
    "questionnaire_data_processed = assign_value_based_on_nan(questionnaire_data_processed, open_questions_neurological, 'JNSTADOC', 2)\n",
    "\n",
    "# Set the answer to the question about whether someone had a slurred speech to 2 (no) if the follow-up quesitons were left unanswered \n",
    "questionnaire_data_processed = assign_value_based_on_nan(questionnaire_data_processed, open_questions_neurological, 'JNSTALK', 2)\n",
    "\n",
    "df = assign_value_based_on_nan(df, open_questions_neurological, 'JNSTADOC', 2)\n",
    "df = assign_value_based_on_nan(df, open_questions_neurological, 'JNSTALK', 2)"
   ]
  },
  {
   "cell_type": "markdown",
   "metadata": {},
   "source": [
    "#### Stroke symptoms"
   ]
  },
  {
   "cell_type": "code",
   "execution_count": null,
   "metadata": {},
   "outputs": [],
   "source": [
    "# Create a list of open questions related to strokes \n",
    "open_questions_stroke = ['JSTRKM1', 'JSTRKY1', 'JSTRKM2', 'JSTRKY2']\n",
    "\n",
    "# Set the answer to the question about having had a stroke to 2 (no) if the follow up questions are unanswered \n",
    "questionnaire_data_processed = assign_value_based_on_nan(questionnaire_data_processed, open_questions_stroke, 'JSTRKDOC', 2)\n",
    "df = assign_value_based_on_nan(df, open_questions_stroke, 'JSTRKDOC', 2)"
   ]
  },
  {
   "cell_type": "code",
   "execution_count": null,
   "metadata": {},
   "outputs": [],
   "source": [
    "# Set the answer to the question about having had a stroke to 2 (no) if the question about being treated was skipped \n",
    "follow_up_questions_stroke = ['JSTRKDOC']\n",
    "questionnaire_data_processed = assign_value_based_on_nan(questionnaire_data_processed, \n",
    "                                                         follow_up_questions_stroke, 'JSTROKE', 2)\n",
    "df = assign_value_based_on_nan(df, follow_up_questions_stroke, 'JSTROKE', 2)"
   ]
  },
  {
   "cell_type": "code",
   "execution_count": null,
   "metadata": {},
   "outputs": [],
   "source": [
    "# Drop open questions related to diseases\n",
    "open_questions_disease = ['JSTRKM1', 'JSTRKY1', 'JSTRKM2', 'JSTRKY2',\n",
    "                         'JNSTAM1', 'JNSTAY1', 'JNSTAM2', 'JNSTAY2',\n",
    "                         'JHS1RSN', 'JHS2RSN', 'JHS3RSN', 'JHS4RSN',\n",
    "                         'JHS1MNTH', 'JHS2MNTH', 'JHS3MNTH', 'JHS4MNTH', \n",
    "                         'JHS1YR', 'JHS2YR', 'JHS3YR', 'JHS4YR',\n",
    "                         'JOHTDX1', 'JOHTDX2', 'JOHTDX3', 'JOHTDX4', 'JSTRDIAG')]\n",
    "\n",
    "for col in open_questions_disease:\n",
    "    if col in questionnaire_data_processed.columns:\n",
    "        questionnaire_data_processed = questionnaire_data_processed.drop(col, axis=1)\n",
    "        df = df.drop(col, axis=1)"
   ]
  },
  {
   "cell_type": "markdown",
   "metadata": {},
   "source": [
    "#### Visual symptoms"
   ]
  },
  {
   "cell_type": "code",
   "execution_count": null,
   "metadata": {},
   "outputs": [],
   "source": [
    "# Set the answer to the question about having visual symptoms to 2 (no) if the follow-up questions were left unanswered \n",
    "questionnaire_data_processed = set_columns_to_two(questionnaire_data_processed, 'JNSVISUA', \n",
    "                                                   ['JNSVIDOC'], 2)\n",
    "\n",
    "df = set_columns_to_two(df, 'JNSVISUA',  ['JNSVIDOC'], 2)"
   ]
  },
  {
   "cell_type": "code",
   "execution_count": null,
   "metadata": {},
   "outputs": [],
   "source": [
    "# Drop open questions related to visual symptoms\n",
    "open_questions_visual_symptoms = ['JNSVISM1', 'JNSVISY1',\n",
    "                                  'JNSVISM2', 'JNSVISY2',\n",
    "                                  'JNSVISYM']\n",
    "\n",
    "for col in open_questions_visual_symptoms:\n",
    "    if col in questionnaire_data_processed.columns:\n",
    "        questionnaire_data_processed = questionnaire_data_processed.drop(col, axis=1)\n",
    "        df = df.drop(col, axis=1)"
   ]
  },
  {
   "cell_type": "markdown",
   "metadata": {},
   "source": [
    "#### Open questions vigorous physical activity"
   ]
  },
  {
   "cell_type": "code",
   "execution_count": null,
   "metadata": {},
   "outputs": [],
   "source": [
    "# Drop the open questions related to physical activity \n",
    "open_questions_physical_activities = ['JVIG_OB1', 'JVIG_OB2', 'JVIG_OB3', 'JVIG_OB4', 'JVIG_OB5', 'JVIG_OBF', 'JVIG_OBH',\n",
    "                                      'JPHYSA11', 'JPHYSA12', 'JPHYSA13', 'JPHYSA1F', 'JPHYSA1H', 'JPHYSA21', 'JPHYSA22', \n",
    "                                      'JPHYSA23', 'JPHYSA2F', 'JPHYSA2H', 'JDIY11', 'JDIY12', 'JDIY13', 'JDIY1F', 'JDIY1H']\n",
    "\n",
    "for col in open_questions_physical_activities:\n",
    "    if col in questionnaire_data_processed.columns:\n",
    "        questionnaire_data_processed = questionnaire_data_processed.drop(col, axis=1)\n",
    "        df = df.drop(col, axis=1)"
   ]
  },
  {
   "cell_type": "markdown",
   "metadata": {},
   "source": [
    "#### Open questions sport"
   ]
  },
  {
   "cell_type": "code",
   "execution_count": null,
   "metadata": {},
   "outputs": [],
   "source": [
    "# Drop open questions related to sports \n",
    "open_questions_sport = ['JSPORT11', 'JSPORT12', 'JSPORT13', 'JSPORT1F', 'JSPORT1H', \n",
    "                        'JSPORT21', 'JSPORT22', 'JSPORT23', 'JSPORT2F', 'JSPORT2H']\n",
    "\n",
    "for col in open_questions_sport:\n",
    "    if col in questionnaire_data_processed.columns:\n",
    "        questionnaire_data_processed = questionnaire_data_processed.drop(col, axis=1)\n",
    "        df = df.drop(col, axis=1)"
   ]
  },
  {
   "cell_type": "markdown",
   "metadata": {},
   "source": [
    "#### Jobs"
   ]
  },
  {
   "cell_type": "code",
   "execution_count": null,
   "metadata": {},
   "outputs": [],
   "source": [
    "# Set the answer to the question about employment to 1 (employee) if the two follow-up questions were left unanswered \n",
    "# because participants were asked to skip these when being a employee\n",
    "questionnaire_data_processed = assign_value_based_on_nan(questionnaire_data_processed,['JLREMPPL', 'JLREPPLN'] ,'JLREMPEE', 1)\n",
    "questionnaire_data_processed = set_columns_to_two(questionnaire_data_processed, 'JLREMPEE',['JLREMPPL', 'JLREPPLN'], 1)\n",
    "\n",
    "df = assign_value_based_on_nan(df,['JLREMPPL', 'JLREPPLN'] ,'JLREMPEE', 1)\n",
    "df = set_columns_to_two(df, 'JLREMPEE',['JLREMPPL', 'JLREPPLN'], 1)"
   ]
  },
  {
   "cell_type": "code",
   "execution_count": null,
   "metadata": {},
   "outputs": [],
   "source": [
    "# Set the answer to the question about being a manager to 3 (no) if the next questions was skipped, because participants were redirected \n",
    "questionnaire_data_processed = assign_value_based_on_nan(questionnaire_data_processed,['JLRECHNO'] ,'JLRECHAR', 3)\n",
    "df = assign_value_based_on_nan(df,['JLRECHNO'] ,'JLRECHAR', 3)"
   ]
  },
  {
   "cell_type": "code",
   "execution_count": null,
   "metadata": {},
   "outputs": [],
   "source": [
    "# Drop open questions related to civil services \n",
    "questionnaire_data_processed = questionnaire_data_processed.drop(columns=['JLRROUTO', 'JGRLUMP'])\n",
    "df = df.drop(columns=['JLRROUTO', 'JGRLUMP'])"
   ]
  },
  {
   "cell_type": "code",
   "execution_count": null,
   "metadata": {},
   "outputs": [],
   "source": [
    "# Create a new category (0) for the question about how many people someone manages if someone answered not to be a manager \n",
    "questionnaire_data_processed['JLRECHNO'] =  questionnaire_data_processed['JLRECHNO'].fillna(0)\n",
    "df['JLRECHNO'] =  df['JLRECHNO'].fillna(0)"
   ]
  },
  {
   "cell_type": "markdown",
   "metadata": {},
   "source": [
    "#### Arthritis"
   ]
  },
  {
   "cell_type": "code",
   "execution_count": null,
   "metadata": {},
   "outputs": [],
   "source": [
    "# Create a list of open questions and closed questions related to arthritis\n",
    "open_questions_arthritis = ['JOST_AYR', 'JRHE_AYR', 'JGOUT_YR', 'JOST_PYR']\n",
    "closed_questions = ['JOST_ART', 'JRHE_ART', 'JGOUT', 'JOST_POR']\n",
    "\n",
    "# Set the answer to the closed question to 2 (no) if the corresponding open question was left unanswered\n",
    "for i,e in enumerate(closed_questions):\n",
    "    questionnaire_data_processed = assign_value_based_on_nan(questionnaire_data_processed,[open_questions_arthritis[i]],e, 2)\n",
    "    df = assign_value_based_on_nan(df,[open_questions_arthritis[i]],e, 2)\n",
    "\n",
    "    questionnaire_data_processed = set_columns_to_zero(questionnaire_data_processed, e, [open_questions_arthritis[i]], 2)\n",
    "    df = set_columns_to_zero(df, e, [open_questions_arthritis[i]], 2)"
   ]
  },
  {
   "cell_type": "markdown",
   "metadata": {},
   "source": [
    "#### Providing care"
   ]
  },
  {
   "cell_type": "code",
   "execution_count": null,
   "metadata": {},
   "outputs": [],
   "source": [
    "# If someone did not answer the questions about providing regular care, there is assumed that they do not provide regular care \n",
    "care_options_list = ['JCARCH','JCARGC','JCARFR', 'JCARRL', 'JCARPA', 'JCARSP']\n",
    "for column in care_options_list:\n",
    "    questionnaire_data_processed[column] = questionnaire_data_processed[column].fillna(2)\n",
    "    df[column] = df[column].fillna(2)\n",
    "\n",
    "# Set the number of hours spend on providing care to 0 if respondent answered 2 (no) to the question about providing care\n",
    "care_open_questions = ['JCARCHHR', 'JCARGCHR', 'JCARSPHR', 'JCARPAHR', 'JCARRLHR', 'JCARFRHR']\n",
    "for i,e in enumerate(care_options_list):\n",
    "    questionnaire_data_processed = set_columns_to_zero(questionnaire_data_processed, e,\n",
    "                                                       [care_open_questions[i]], 2)\n",
    "    df = set_columns_to_zero(df, e,[care_open_questions[i]], 2)"
   ]
  },
  {
   "cell_type": "markdown",
   "metadata": {},
   "source": [
    "#### Claudation"
   ]
  },
  {
   "cell_type": "code",
   "execution_count": null,
   "metadata": {},
   "outputs": [],
   "source": [
    "# If someone did not answer the question about being told to have bad circulation in the arteries of their legs\n",
    "# there is assumed that they have never been told (2)\n",
    "questionnaire_data_processed['JINCLAU'] =  questionnaire_data_processed['JINCLAU'].fillna(2)\n",
    "df['JINCLAU'] =  df['JINCLAU'].fillna(2)\n",
    "\n",
    "# Drop open question about claudation\n",
    "questionnaire_data_processed = questionnaire_data_processed.drop(columns='JINCLAYR')\n",
    "df = df.drop(columns='JINCLAYR')"
   ]
  },
  {
   "cell_type": "markdown",
   "metadata": {},
   "source": [
    "#### Housework"
   ]
  },
  {
   "cell_type": "code",
   "execution_count": null,
   "metadata": {},
   "outputs": [],
   "source": [
    "# Drop open questions related to work around the house \n",
    "open_q = ['JHOUSW11', 'JHOUSW12', 'JHOUSW13', 'JHOUSW1F', 'JHOUSW1H', 'JHOUSW2F', \n",
    "          'JHOUSW2H', 'JHOUSW21', 'JHOUSW22', 'JHOUSW23', 'JHOUSW2F', 'JHOUSW2H']\n",
    "\n",
    "for col in open_q:\n",
    "    if col in questionnaire_data_processed.columns:\n",
    "        questionnaire_data_processed = questionnaire_data_processed.drop(col, axis=1)\n",
    "        df = df.drop(col, axis=1)"
   ]
  },
  {
   "cell_type": "markdown",
   "metadata": {},
   "source": [
    "#### Open questions community work"
   ]
  },
  {
   "cell_type": "code",
   "execution_count": null,
   "metadata": {},
   "outputs": [],
   "source": [
    "# Drop open questions related to community work\n",
    "open_questions_cw = ['JSFOTH1','JSFOTH2','JSFOTH3','JSFOTH4','JSFOTH5','JSFOTH6', \n",
    "                     'JSFOTH1F', 'JSFOTH2F', 'JSFOTH3F','JSFOTH4F', 'JSFOTH5F', 'JSFOTH6F']\n",
    "\n",
    "for col in open_questions_cw:\n",
    "    if col in questionnaire_data_processed.columns:\n",
    "        questionnaire_data_processed = questionnaire_data_processed.drop(col, axis=1)\n",
    "        df = df.drop(col, axis=1)"
   ]
  },
  {
   "cell_type": "markdown",
   "metadata": {},
   "source": [
    "#### Open questions garden"
   ]
  },
  {
   "cell_type": "code",
   "execution_count": null,
   "metadata": {},
   "outputs": [],
   "source": [
    "# Drop open questions related to gardening \n",
    "open_questions_garden = ['JGARDN11', 'JGARDN12', 'JGARDN13', 'JGARDN1F', 'JGARDN1H']\n",
    "\n",
    "for col in open_questions_garden:\n",
    "    if col in questionnaire_data_processed.columns:\n",
    "        questionnaire_data_processed = questionnaire_data_processed.drop(col, axis=1)\n",
    "        df = df.drop(col, axis=1)"
   ]
  },
  {
   "cell_type": "markdown",
   "metadata": {},
   "source": [
    "#### Smoking"
   ]
  },
  {
   "cell_type": "code",
   "execution_count": null,
   "metadata": {},
   "outputs": [],
   "source": [
    "# If someone did not smoke in the past, they get redirected to question 76 and they skip the question about when they stopped smoking\n",
    "# Therefore, if someone did not answer the question about when they stopped smoking, smoking in the past is set to 2 (no)\n",
    "questionnaire_data_processed = assign_value_based_on_nan(questionnaire_data_processed, ['JSMKSTOP'], 'JSMKPAST', 2)\n",
    "df  = assign_value_based_on_nan(df, ['JSMKSTOP'], 'JSMKPAST', 2)\n",
    "\n",
    "# If someone does not smoke, the number of cigarettes per day is 0\n",
    "questionnaire_data_processed = set_columns_to_zero(questionnaire_data_processed, 'JSMOKE', ['JCIGNUM'], 2)\n",
    "df = set_columns_to_zero(df, 'JSMOKE', ['JCIGNUM'], 2)\n",
    "\n",
    "# If someone did not answer how old they were when they stopped smoking, there is assumed that they got redirected\n",
    "# The answer to the question of how old they were when they stopped smoking is set to 0, considering there is expected that the younger\n",
    "# People stop with smoking, the less T2D risk\n",
    "questionnaire_data_processed['JSMKSTOP'] = questionnaire_data_processed['JSMKSTOP'].fillna(0)\n",
    "df['JSMKSTOP'] = df['JSMKSTOP'].fillna(0)"
   ]
  },
  {
   "cell_type": "markdown",
   "metadata": {},
   "source": [
    "#### Alcohol consumption"
   ]
  },
  {
   "cell_type": "code",
   "execution_count": null,
   "metadata": {},
   "outputs": [],
   "source": [
    "# Set the answer to the question about being a non-drinker to 1 (yes) if all follow-up questions were left unanswered\n",
    "# Because respondents got redirected to the next part of the survey\n",
    "questionnaire_data_processed = assign_value_based_on_nan(questionnaire_data_processed, ['JALCWK', 'JSPRTWK', 'JWINEWK', 'JBEERWK',\n",
    "                                                                                         'JDRNKHNG', 'JDRNKGLT', 'JDRNKANN', 'JDRNKCUT'], 'JNONDRNK', 1)\n",
    "\n",
    "df = assign_value_based_on_nan(df, ['JALCWK', 'JSPRTWK', 'JWINEWK', 'JBEERWK','JDRNKHNG', 'JDRNKGLT', 'JDRNKANN', 'JDRNKCUT'], 'JNONDRNK', 1)"
   ]
  },
  {
   "cell_type": "code",
   "execution_count": null,
   "metadata": {},
   "outputs": [],
   "source": [
    "# Add a new category represented by 0 for the question about having had an alcoholic drink in the last seven days \n",
    "# that represents people who have never drunk an alcoholic drink \n",
    "questionnaire_data_processed = set_columns_to_zero(questionnaire_data_processed, 'JNONDRNK', ['JALCWK'], 1)\n",
    "df = set_columns_to_zero(df, 'JNONDRNK', ['JALCWK'], 1)\n",
    "\n",
    "questionnaire_data_processed = set_columns_to_two(questionnaire_data_processed, 'JALCWK', ['JNONDRNK'], 1)\n",
    "df = set_columns_to_two(df, 'JALCWK', ['JNONDRNK'], 1)\n",
    "\n",
    "# Set 'have you had an alcoholic drink in the last seven days' to no if there are nou amount of drinks entered\n",
    "questionnaire_data_processed = assign_value_based_on_nan(questionnaire_data_processed, ['JSPRTWK', 'JWINEWK', 'JBEERWK'], 'JALCWK', 2)\n",
    "df = assign_value_based_on_nan(df, ['JSPRTWK', 'JWINEWK', 'JBEERWK'], 'JALCWK', 2)\n",
    "\n",
    "# If someone did not drink the last 7 days or never had an alcoholic drink, the amount of drinks during last week are all set to 0 \n",
    "questionnaire_data_processed = set_columns_to_zero(questionnaire_data_processed, 'JALCWK', ['JSPRTWK', 'JWINEWK', 'JBEERWK'], 2)\n",
    "df = set_columns_to_zero(df, 'JALCWK', ['JSPRTWK', 'JWINEWK', 'JBEERWK'], 2)\n",
    "\n",
    "questionnaire_data_processed = set_columns_to_zero(questionnaire_data_processed, 'JALCWK', ['JSPRTWK', 'JWINEWK', 'JBEERWK'], 0)\n",
    "df = set_columns_to_zero(df, 'JALCWK', ['JSPRTWK', 'JWINEWK', 'JBEERWK'], 0)\n",
    "\n",
    "# If someone never had an alcoholic drink, the questions regarding abusive drinking are all set to 2 (no)\n",
    "questionnaire_data_processed = set_columns_to_two(questionnaire_data_processed, 'JNONDRNK', ['JDRNKHNG', 'JDRNKGLT', 'JDRNKANN', 'JDRNKCUT'], 2)\n",
    "df = set_columns_to_two(df, 'JNONDRNK', ['JDRNKHNG', 'JDRNKGLT', 'JDRNKANN', 'JDRNKCUT'], 2)\n",
    "\n",
    "# Because of the assumption that someone only fills in the number of drinks of the category that he/she drinks and \n",
    "# leaves the category he/she does not drink blank, the NaNs are filled with 0 \n",
    "\n",
    "questionnaire_data_processed['JSPRTWK'] = questionnaire_data_processed['JSPRTWK'].fillna(0)\n",
    "questionnaire_data_processed['JWINEWK'] = questionnaire_data_processed['JWINEWK'].fillna(0)\n",
    "questionnaire_data_processed['JBEERWK'] = questionnaire_data_processed['JBEERWK'].fillna(0)\n",
    "\n",
    "df['JSPRTWK'] = df['JSPRTWK'].fillna(0)\n",
    "df['JWINEWK'] = df['JWINEWK'].fillna(0)\n",
    "df['JBEERWK'] = df['JBEERWK'].fillna(0)"
   ]
  },
  {
   "cell_type": "markdown",
   "metadata": {},
   "source": [
    "#### Remove built environment"
   ]
  },
  {
   "cell_type": "code",
   "execution_count": null,
   "metadata": {},
   "outputs": [],
   "source": [
    "# Extract all features related to built environment\n",
    "BE_list = extract_strings_starting_with(missing_df_questionnaire, 'column_name', 'JBE')"
   ]
  },
  {
   "cell_type": "code",
   "execution_count": null,
   "metadata": {},
   "outputs": [],
   "source": [
    "# Remove the features related to beer consumption from the built environment list \n",
    "beer = ['JBEERWK','JBERUWK0', 'JBEERWK0']\n",
    "for item in beer:\n",
    "    BE_list.remove(item)"
   ]
  },
  {
   "cell_type": "code",
   "execution_count": null,
   "metadata": {},
   "outputs": [],
   "source": [
    "# drop the questions related to the built environment \n",
    "for col in BE_list:\n",
    "    if col in questionnaire_data_processed.columns:\n",
    "        questionnaire_data_processed = questionnaire_data_processed.drop(col, axis=1)\n",
    "        df = df.drop(col, axis=1)"
   ]
  },
  {
   "cell_type": "markdown",
   "metadata": {},
   "source": [
    "#### Leg pain"
   ]
  },
  {
   "cell_type": "code",
   "execution_count": null,
   "metadata": {},
   "outputs": [],
   "source": [
    "# Extract all features related to leg pain \n",
    "JLP_list = extract_strings_starting_with(missing_df_questionnaire, 'column_name', 'JLP')"
   ]
  },
  {
   "cell_type": "code",
   "execution_count": null,
   "metadata": {},
   "outputs": [],
   "source": [
    "# Assign a 2 (no) to leg pain if all the follow up questions are unanswered \n",
    "questionnaire_data_processed = assign_value_based_on_nan(questionnaire_data_processed, JLP_list, 'JLEGPAIN', 2)\n",
    "df = assign_value_based_on_nan(df, JLP_list, 'JLEGPAIN', 2)"
   ]
  },
  {
   "cell_type": "code",
   "execution_count": null,
   "metadata": {},
   "outputs": [],
   "source": [
    "# Assign a 2 (no) to all the follow up questions if a person has no leg pain \n",
    "questionnaire_data_processed = set_columns_to_two(questionnaire_data_processed, 'JLEGPAIN', JLP_list, 2)\n",
    "df = set_columns_to_two(df, 'JLEGPAIN', JLP_list, 2 )"
   ]
  },
  {
   "cell_type": "markdown",
   "metadata": {},
   "source": [
    "#### Marriage"
   ]
  },
  {
   "cell_type": "code",
   "execution_count": null,
   "metadata": {},
   "outputs": [],
   "source": [
    "# Check if the 'JMARCOH' feature is in the dataframe to use to impute JNOTMAR\n",
    "'JMARCOH' in missing_df_questionnaire['column_name'].values"
   ]
  },
  {
   "cell_type": "code",
   "execution_count": null,
   "metadata": {},
   "outputs": [],
   "source": [
    "# Create a new category 'married/partnership' for the 'JNOTMAR' feature if \n",
    "# they answers that they are married/cohabiting/in a civil partnership in the previous question\n",
    "condition = pd.isna(questionnaire_data_processed['JNOTMAR']) & (questionnaire_data_processed['JMARCOH'] == 1)\n",
    "\n",
    "questionnaire_data_processed.loc[condition, 'JNOTMAR'] = 0\n",
    "df.loc[condition, 'JNOTMAR'] = 0 "
   ]
  },
  {
   "cell_type": "code",
   "execution_count": null,
   "metadata": {},
   "outputs": [],
   "source": [
    "# Drop open question related to someones civil status \n",
    "questionnaire_data_processed = questionnaire_data_processed.drop(columns='JWDSYEAR')\n",
    "df = df.drop(columns='JWDSYEAR')"
   ]
  },
  {
   "cell_type": "markdown",
   "metadata": {},
   "source": [
    "#### Drop three column with a lot of missing values that cannot be found back in the questionnaire"
   ]
  },
  {
   "cell_type": "code",
   "execution_count": null,
   "metadata": {},
   "outputs": [],
   "source": [
    "# Drop four features that could not be found back in the questionnaire with a lot of missing data \n",
    "questionnaire_data_processed = questionnaire_data_processed.drop(columns = ['JLRESC', 'JJOBSOC', 'JLRESEG', 'JLRGRLMP'])\n",
    "df = df.drop(columns = ['JLRESC', 'JJOBSOC', 'JLRESEG', 'JLRGRLMP'])"
   ]
  },
  {
   "cell_type": "markdown",
   "metadata": {},
   "source": [
    "#### Drop two columns that have more than 50% missing data without a clear reason"
   ]
  },
  {
   "cell_type": "code",
   "execution_count": null,
   "metadata": {},
   "outputs": [],
   "source": [
    "questionnaire_data_processed = questionnaire_data_processed.drop(columns = ['JLRROUT','JLGRLUMP'])\n",
    "df = df.drop(columns = ['JLRROUT','JLGRLUMP'])"
   ]
  },
  {
   "cell_type": "markdown",
   "metadata": {},
   "source": [
    "#### Pets"
   ]
  },
  {
   "cell_type": "code",
   "execution_count": null,
   "metadata": {},
   "outputs": [],
   "source": [
    "# If someone answered that he/she does not have a pet, a new category for the feature pet attachment is created and set to 0 (no pet)\n",
    "questionnaire_data_processed.loc[(questionnaire_data_processed['JPET'] == 2) & (questionnaire_data_processed['JPETATTA'].isna()) , 'JPETATTA'] = 0 \n",
    "df.loc[(df['JPET'] == 2) & (df['JPETATTA'].isna()) , 'JPETATTA'] = 0 "
   ]
  },
  {
   "cell_type": "markdown",
   "metadata": {},
   "source": [
    "#### Snoring"
   ]
  },
  {
   "cell_type": "code",
   "execution_count": null,
   "metadata": {},
   "outputs": [],
   "source": [
    "# Set 'do you snore' to 2 (no) if all the follow up questions are unanswered \n",
    "questionnaire_data_processed = assign_value_based_on_nan(questionnaire_data_processed, ['JSNORHOW', 'JSNOROFT', 'JSNORBOT'], 'JSNORE', 2)\n",
    "df = assign_value_based_on_nan(df, ['JSNORHOW', 'JSNOROFT', 'JSNORBOT'], 'JSNORE', 2)"
   ]
  },
  {
   "cell_type": "code",
   "execution_count": null,
   "metadata": {},
   "outputs": [],
   "source": [
    "# Create a new category 'not snoring' (0) for the follow up questions and assign the value 0 if someone does not snor\n",
    "questionnaire_data_processed = set_columns_to_zero(questionnaire_data_processed, 'JSNORE', ['JSNORHOW', 'JSNOROFT', 'JSNORBOT'], 2)\n",
    "df = set_columns_to_zero(df, 'JSNORE', ['JSNORHOW', 'JSNOROFT', 'JSNORBOT'], 2)"
   ]
  },
  {
   "cell_type": "code",
   "execution_count": null,
   "metadata": {},
   "outputs": [],
   "source": [
    "# Also assign the value 0 if someone does not now if he/she snores \n",
    "questionnaire_data_processed = set_columns_to_zero(questionnaire_data_processed, 'JSNORE', ['JSNORHOW', 'JSNOROFT', 'JSNORBOT'], 3)\n",
    "df = set_columns_to_zero(df, 'JSNORE', ['JSNORHOW', 'JSNOROFT', 'JSNORBOT'], 3)"
   ]
  },
  {
   "cell_type": "markdown",
   "metadata": {},
   "source": [
    "#### Body pain"
   ]
  },
  {
   "cell_type": "code",
   "execution_count": null,
   "metadata": {},
   "outputs": [],
   "source": [
    "# Create a list with all the features related to body pain \n",
    "twelve_months = ['JPNN', 'JPNS', 'JPNUB', 'JPNA', 'JPNLB']\n",
    "\n",
    "\n",
    "for column in twelve_months:\n",
    "    col_m = f\"{column}12M\"\n",
    "    col_od = f\"{column}_OD\"\n",
    "    col_d = f\"{column}14D\"\n",
    "\n",
    "    # If someone had pain during the last 14 days, they had pain during the last 12 months \n",
    "    condition = (questionnaire_data_processed[col_d] == 1) & (pd.isna(questionnaire_data[col_m])) \n",
    "    questionnaire_data_processed.loc[condition, [col_m]] = 1\n",
    "    df.loc[condition,[col_m]] = 1\n",
    "    \n",
    "    # If someone did not have pain during the last 12 months, \n",
    "    # they did not have pain more than three times during the last 12 months or pain during the last 14 days\n",
    "    condition3 = (questionnaire_data_processed[col_m] == 2)  & (pd.isna(questionnaire_data[col_d])) \n",
    "    questionnaire_data_processed.loc[condition3, [col_d]] = 2\n",
    "    df.loc[condition3, [col_d]] = 2\n",
    "\n",
    "    condition4 = (questionnaire_data_processed[col_m] == 2)  & (pd.isna(questionnaire_data[col_od])) \n",
    "    questionnaire_data_processed.loc[condition4, [col_od]] = 2\n",
    "    df.loc[condition4, [col_od]] = 2\n",
    "     \n",
    "    # If they left all the three options blank, there is assumed that they had no pain \n",
    "    columns_to_check = [col_m, col_od, col_d]\n",
    "    for index, row in questionnaire_data_processed.iterrows():\n",
    "        if row[columns_to_check].isna().all():\n",
    "            questionnaire_data_processed.loc[index, columns_to_check] = 2\n",
    "            df.loc[index, columns_to_check] = 2"
   ]
  },
  {
   "cell_type": "code",
   "execution_count": null,
   "metadata": {},
   "outputs": [],
   "source": [
    "# Create a list of all features related to pain in the upper body \n",
    "twelve_months = ['JPNN', 'JPNS', 'JPNUB', 'JPNA', 'JPNLB']\n",
    "\n",
    "twelve_months_complete = []\n",
    "\n",
    "for column in twelve_months:\n",
    "    col_m = f\"{column}12M\"\n",
    "    col_od = f\"{column}_OD\"\n",
    "    col_d = f\"{column}14D\"\n",
    "\n",
    "    columns = [col_m, col_od, col_d]\n",
    "    for item in columns:\n",
    "        twelve_months_complete.append(item)"
   ]
  },
  {
   "cell_type": "code",
   "execution_count": null,
   "metadata": {},
   "outputs": [],
   "source": [
    "# The remaining missing values related to the questions about body pained were filled with a 2\n",
    "# assuming that people who did not answer did not have severe pain\n",
    "for column in twelve_months_complete:\n",
    "    questionnaire_data_processed[column] = questionnaire_data_processed[column].fillna(2)\n",
    "    df[column] = df[column].fillna(2)"
   ]
  },
  {
   "cell_type": "markdown",
   "metadata": {},
   "source": [
    "#### Employment"
   ]
  },
  {
   "cell_type": "code",
   "execution_count": null,
   "metadata": {},
   "outputs": [],
   "source": [
    "# If someone was redirected to question 108, the answer to the skipped questions is set to 0 (a new category representing being employed\n",
    "questionnaire_data_processed.loc[(questionnaire_data_processed['JLREMPL'] == 1) & (questionnaire_data_processed['JLRNE'].isna()), 'JLRNE'] = 0 \n",
    "df.loc[(df['JLREMPL'] == 1) & (df['JLRNE'].isna()), 'JLRNE'] = 0   "
   ]
  },
  {
   "cell_type": "markdown",
   "metadata": {},
   "source": [
    "#### Sports"
   ]
  },
  {
   "cell_type": "code",
   "execution_count": null,
   "metadata": {},
   "outputs": [],
   "source": [
    "# If someone does not practice a sport, the total hours is set to 0 \n",
    "sports = ['JSOCCER', 'JGOLF', 'JSWIM']\n",
    "\n",
    "for column in sports:\n",
    "    col_F = f\"{column}F\"\n",
    "    col_H = f\"{column}H\"\n",
    "\n",
    "    condition = questionnaire_data_processed[col_F] == 0 \n",
    "    questionnaire_data_processed.loc[condition, [col_H]] = 0\n",
    "    df.loc[condition, [col_H]] = 0"
   ]
  },
  {
   "cell_type": "markdown",
   "metadata": {},
   "source": [
    "#### Manual lawn mowning"
   ]
  },
  {
   "cell_type": "code",
   "execution_count": null,
   "metadata": {},
   "outputs": [],
   "source": [
    "# If someone does not mow their garden, the total hours spent is set to 0 \n",
    "condition = (questionnaire_data_processed['JMOWF'] == 0) & (questionnaire_data_processed['JMOWH'].isna())\n",
    "questionnaire_data_processed.loc[condition, ['JMOWH']] = 0\n",
    "df.loc[condition, ['JMOWH']] = 0"
   ]
  },
  {
   "cell_type": "markdown",
   "metadata": {},
   "source": [
    "#### Painting"
   ]
  },
  {
   "cell_type": "code",
   "execution_count": null,
   "metadata": {},
   "outputs": [],
   "source": [
    "# If someone does not paint or decorate, the total hours spend is set to 0\n",
    "condition = (questionnaire_data_processed['JPAIDECF'] == 0) & (questionnaire_data_processed['JPAIDECH'].isna())\n",
    "questionnaire_data_processed.loc[condition, ['JPAIDECH']] = 0\n",
    "df.loc[condition, ['JPAIDECH']] = 0"
   ]
  },
  {
   "cell_type": "markdown",
   "metadata": {},
   "source": [
    "#### JLR2005"
   ]
  },
  {
   "cell_type": "code",
   "execution_count": null,
   "metadata": {},
   "outputs": [],
   "source": [
    "# If someone did not answer the follow up questions about civil service, they chose 1 and were redirected to 106\n",
    "# Therefore, if the follow up questions are NaN, the first question is set to 1\n",
    "questionnaire_data_processed = assign_value_based_on_nan(questionnaire_data_processed, ['JLRCLGD'], 'JLR2005', 1)\n",
    "df  = assign_value_based_on_nan(df, ['JLRCLGD'], 'JLR2005', 1)"
   ]
  },
  {
   "cell_type": "code",
   "execution_count": null,
   "metadata": {},
   "outputs": [],
   "source": [
    "# If the first question is 1, the follow up questions are assigned to a new category 0 (a category representing leaving civil service before 2005)\n",
    "questionnaire_data_processed = set_columns_to_zero(questionnaire_data_processed, 'JLR2005', ['JLRCLGD'], 1)\n",
    "df = set_columns_to_zero(df, 'JLR2005', ['JLRCLGD'], 1)"
   ]
  },
  {
   "cell_type": "markdown",
   "metadata": {},
   "source": [
    "#### Carwash"
   ]
  },
  {
   "cell_type": "code",
   "execution_count": null,
   "metadata": {},
   "outputs": [],
   "source": [
    "# If someone does not wash the car, the total hours spent is set to 0 \n",
    "condition = (questionnaire_data_processed['JCARWASF'] == 0) & (questionnaire_data_processed['JCARWASH'].isna())\n",
    "questionnaire_data_processed.loc[condition, ['JCARWASH']] = 0\n",
    "df.loc[condition, ['JCARWASH']] = 0"
   ]
  },
  {
   "cell_type": "markdown",
   "metadata": {},
   "source": [
    "#### NaNs for employment"
   ]
  },
  {
   "cell_type": "code",
   "execution_count": null,
   "metadata": {},
   "outputs": [],
   "source": [
    "# If someone chose 1 for JLREMPL (question 106), that person gets redirected to question 108 \n",
    "# Therefore, if the answer to question 107 is NaN, the answer to question 106 is set to 1 \n",
    "questionnaire_data_processed = assign_value_based_on_nan(questionnaire_data_processed, ['JLRNE'], 'JLREMPL', 1)\n",
    "df = assign_value_based_on_nan(df, ['JLRNE'], 'JLREMPL', 1)"
   ]
  },
  {
   "cell_type": "code",
   "execution_count": null,
   "metadata": {},
   "outputs": [],
   "source": [
    "# If the answer to question 106 is 1, the asnwer to question JLRN is set to 0 (a new category representing being employed)\n",
    "questionnaire_data_processed = set_columns_to_zero(questionnaire_data_processed, 'JLREMPL', ['JLRNE'], 1)\n",
    "df = set_columns_to_zero(df, 'JLREMPL', ['JLRNE'], 1)"
   ]
  },
  {
   "cell_type": "markdown",
   "metadata": {},
   "source": [
    "#### Follow up questions frequency"
   ]
  },
  {
   "cell_type": "code",
   "execution_count": null,
   "metadata": {},
   "outputs": [],
   "source": [
    "# This is a list of questions, where the first question determines whether someone does something\n",
    "# and the second question refers to how many hours someone does something\n",
    "# If someone does not do something, the amount of hours is set to 0 \n",
    "\n",
    "freq = ['JWEED', 'JHANGW', 'JCOOK', 'JCARRYH']\n",
    "\n",
    "for column in freq:\n",
    "    col_F = f\"{column}F\"\n",
    "    col_H = f\"{column}H\"\n",
    "\n",
    "    condition = questionnaire_data_processed[col_F] == 0\n",
    "    questionnaire_data_processed.loc[condition, [col_H]] = 0\n",
    "    df.loc[condition, [col_H]] = 0"
   ]
  },
  {
   "cell_type": "markdown",
   "metadata": {},
   "source": [
    "#### Self-fulfillment"
   ]
  },
  {
   "cell_type": "code",
   "execution_count": null,
   "metadata": {},
   "outputs": [],
   "source": [
    "# If someone did not answer a question about self-fulfillment activities, there is assumed that they never do it, and the value is set to 1 \n",
    "self_fulfillment_list = ['JSFCONSU', 'JSFBOOKS', 'JSFCHARI', 'JSFENVIR', 'JSFPOLIT', 'JSFCOMMU']\n",
    "\n",
    "for column in self_fulfillment_list:\n",
    "    questionnaire_data_processed[column] = questionnaire_data_processed[column].fillna(1)\n",
    "    df[column] = df[column].fillna(1)"
   ]
  },
  {
   "cell_type": "markdown",
   "metadata": {},
   "source": [
    "#### Gardening"
   ]
  },
  {
   "cell_type": "code",
   "execution_count": null,
   "metadata": {},
   "outputs": [],
   "source": [
    "'JSPAGDNF' in missing_df_questionnaire['column_name'].values"
   ]
  },
  {
   "cell_type": "code",
   "execution_count": null,
   "metadata": {},
   "outputs": [],
   "source": [
    "# If someone is never involved in gardening, someone is also never involved in mowing or weeding\n",
    "questionnaire_data_processed.loc[(questionnaire_data_processed['JSPAGDNF'] == 4) & (questionnaire_data_processed['JWEEDF'].isna()), 'JWEEDF'] = 0\n",
    "questionnaire_data_processed.loc[(questionnaire_data_processed['JSPAGDNF'] == 4) & (questionnaire_data_processed['JWEEDH'].isna()), 'JWEEDH'] = 0\n",
    "questionnaire_data_processed.loc[(questionnaire_data_processed['JSPAGDNF'] == 4) & (questionnaire_data_processed['JMOWF'].isna()), 'JMOWF'] = 0\n",
    "questionnaire_data_processed.loc[(questionnaire_data_processed['JSPAGDNF'] == 4) & (questionnaire_data_processed['JMOWH'].isna()), 'JMOWH'] = 0\n",
    "\n",
    "df.loc[(df['JSPAGDNF'] == 4) & (df['JWEEDF'].isna()), 'JWEEDF'] = 0\n",
    "df.loc[(df['JSPAGDNF'] == 4) & (df['JWEEDH'].isna()), 'JWEEDH'] = 0\n",
    "df.loc[(df['JSPAGDNF'] == 4) & (df['JMOWF'].isna()), 'JMOWF'] = 0\n",
    "df.loc[(df['JSPAGDNF'] == 4) & (df['JMOWH'].isna()), 'JMOWH'] = 0"
   ]
  },
  {
   "cell_type": "markdown",
   "metadata": {},
   "source": [
    "#### Remove variables that are not in the questionnaire"
   ]
  },
  {
   "cell_type": "code",
   "execution_count": null,
   "metadata": {},
   "outputs": [],
   "source": [
    "# Remove features thast cannot be found in the questionnaire \n",
    "questionnaire_data_processed = questionnaire_data_processed.drop(columns=['JCAGE', 'JSPATOT'])\n",
    "df = df.drop(columns=['JCAGE', 'JSPATOT'])"
   ]
  },
  {
   "cell_type": "code",
   "execution_count": null,
   "metadata": {},
   "outputs": [],
   "source": [
    "# If someone did not answer the number of occasions and the total time spent on a activity, there is assumed that this person does not do this activity\n",
    "# Therefore, occasions and time spent is set to 0 \n",
    "FH_columns = ['JMOW', 'JSOCCER', 'JWEED', 'JGOLF', 'JSWIM', 'JCARRYH', 'JCOOK', 'JHANGW', 'JCARWAS', 'JPAIDEC']\n",
    "\n",
    "for column in FH_columns:\n",
    "    col_F = f\"{column}F\"\n",
    "    col_H = f\"{column}H\"\n",
    "\n",
    "    questionnaire_data_processed.loc[questionnaire_data_processed[col_F].isna() & questionnaire_data_processed[col_H].isna(), [col_F,col_H]] = 0\n",
    "    df.loc[df[col_F].isna() & df[col_H].isna(), [col_F,col_H]] = 0"
   ]
  },
  {
   "cell_type": "code",
   "execution_count": null,
   "metadata": {},
   "outputs": [],
   "source": [
    "# If there are remaining activity columns with NaNs, the time spent and the number of occasions is also set to 0 \n",
    "for column in FH_columns:\n",
    "    col_F = f\"{column}F\"\n",
    "    col_H = f\"{column}H\"\n",
    "\n",
    "    questionnaire_data_processed[col_F] = questionnaire_data_processed[col_F].fillna(0)\n",
    "    questionnaire_data_processed[col_H] = questionnaire_data_processed[col_H].fillna(0)\n",
    "    df[col_F] = df[col_F].fillna(0)\n",
    "    df[col_H] = df[col_H].fillna(0)"
   ]
  },
  {
   "cell_type": "markdown",
   "metadata": {},
   "source": [
    "#### Remove derived features "
   ]
  },
  {
   "cell_type": "code",
   "execution_count": null,
   "metadata": {},
   "outputs": [],
   "source": [
    "# Some of the features were derived from other features, but there is no information on how these were derived \n",
    "# Therefore, handling missing values is challenging and the features are removed from the dataframe \n",
    "derived = ['JDPN_SUM', 'JWALKMET', 'JCYCMET', 'JPCS', 'JMCS', 'JPRACT1','JCONF1', 'JNEG1', 'JLAD', 'JPROXY', 'JTRLPP','JGHQC']\n",
    "\n",
    "questionnaire_data_processed = questionnaire_data_processed.drop(columns=derived)\n",
    "df = df.drop(columns=derived)"
   ]
  },
  {
   "cell_type": "markdown",
   "metadata": {},
   "source": [
    "#### Breathing pauses"
   ]
  },
  {
   "cell_type": "code",
   "execution_count": null,
   "metadata": {},
   "outputs": [],
   "source": [
    "# If someone did not answer the question about breathing pauses during sleep, there is assumed that he/she did not know (6)\n",
    "questionnaire_data_processed['JSLBRPAU'] = questionnaire_data_processed['JSLBRPAU'].fillna(6)\n",
    "df['JSLBRPAU'] = df['JSLBRPAU'].fillna(6)"
   ]
  },
  {
   "cell_type": "markdown",
   "metadata": {},
   "source": [
    "#### Activities"
   ]
  },
  {
   "cell_type": "code",
   "execution_count": null,
   "metadata": {},
   "outputs": [],
   "source": [
    "# Create a list with all free-time activities \n",
    "activity_list = extract_strings_starting_with(missing_df_questionnaire, 'column_name', 'JSPA')"
   ]
  },
  {
   "cell_type": "code",
   "execution_count": null,
   "metadata": {},
   "outputs": [],
   "source": [
    "# Remove the aggragated variable \n",
    "activity_list.remove('JSPATOT')"
   ]
  },
  {
   "cell_type": "code",
   "execution_count": null,
   "metadata": {},
   "outputs": [],
   "source": [
    "# If someone did not answer the questions about activities in their spare time, there is assumed that the never take part in these activities \n",
    "for column in activity_list:\n",
    "    questionnaire_data_processed[column] = questionnaire_data_processed[column].fillna(4)\n",
    "    df[column] = df[column].fillna(4)"
   ]
  },
  {
   "cell_type": "markdown",
   "metadata": {},
   "source": [
    "#### Alcoholishm"
   ]
  },
  {
   "cell_type": "code",
   "execution_count": null,
   "metadata": {},
   "outputs": [],
   "source": [
    "# Create a additional feature that shows whether someone did or did not answer the questions about problemtic drinking behaviour \n",
    "questionnaire_data_processed['problematic_drinking'] = questionnaire_data_processed['JDRNKANN'].isna().astype(int)\n",
    "df['problematic_drinking'] = df['JDRNKANN'].isna().astype(int)"
   ]
  },
  {
   "cell_type": "code",
   "execution_count": null,
   "metadata": {},
   "outputs": [],
   "source": [
    "# Fill the missing values in the questions related alcoholic drinking behaviour with a 2 (no)\n",
    "for column in ['JDRNKCUT', 'JDRNKANN', 'JDRNKGLT', 'JDRNKHNG']:\n",
    "    questionnaire_data_processed[column] = questionnaire_data_processed[column].fillna(2)\n",
    "    df[column] = df[column].fillna(2)"
   ]
  },
  {
   "cell_type": "markdown",
   "metadata": {},
   "source": [
    "#### Closest person"
   ]
  },
  {
   "cell_type": "code",
   "execution_count": null,
   "metadata": {},
   "outputs": [],
   "source": [
    "# Create a list with all variables related to how many people the participants feel close to \n",
    "JCP_list = extract_strings_starting_with(missing_df_questionnaire, 'column_name', 'JCP')"
   ]
  },
  {
   "cell_type": "code",
   "execution_count": null,
   "metadata": {},
   "outputs": [],
   "source": [
    "# Drop an open question related to who felt the closest in the last 12 months, as this is an open question and not usefull\n",
    "questionnaire_data_processed = questionnaire_data_processed.drop(columns=['JCP1'])\n",
    "df = df.drop(columns=['JCP1'])"
   ]
  },
  {
   "cell_type": "code",
   "execution_count": null,
   "metadata": {},
   "outputs": [],
   "source": [
    "# Remove open questions from the list \n",
    "JCP_list.remove('JCP1')\n",
    "JCP_list.remove('JCPNO')"
   ]
  },
  {
   "cell_type": "code",
   "execution_count": null,
   "metadata": {},
   "outputs": [],
   "source": [
    "# If someone did not answer the question about how many people they feel very close to, there is assumed that the answer is 0 \n",
    "questionnaire_data_processed = assign_value_based_on_nan(questionnaire_data_processed, JCP_list, 'JCPNO', 0)\n",
    "df = assign_value_based_on_nan(df, JCP_list, 'JCPNO', 0)"
   ]
  },
  {
   "cell_type": "code",
   "execution_count": null,
   "metadata": {},
   "outputs": [],
   "source": [
    "# Create a function that sets the values of specified columns to 1 based on a condition\n",
    "def set_columns_to_one(dataframe, condition_column, target_columns, value):\n",
    "    condition_met = dataframe[condition_column] == value\n",
    "    cond_target = dataframe[target_columns].isna().all(axis=1)\n",
    "    dataframe.loc[condition_met & cond_target, target_columns] = 1 \n",
    "    return dataframe"
   ]
  },
  {
   "cell_type": "code",
   "execution_count": null,
   "metadata": {},
   "outputs": [],
   "source": [
    "# If someone is not close to anybody, all the followed up questions related to these close persons are set to 1 (not at all)\n",
    "questionnaire_data_processed = set_columns_to_one(questionnaire_data_processed, 'JCPNO', JCP_list, 0)\n",
    "df = set_columns_to_one(df, 'JCPNO', JCP_list, 0)"
   ]
  },
  {
   "cell_type": "markdown",
   "metadata": {},
   "source": [
    "#### JDPN features"
   ]
  },
  {
   "cell_type": "code",
   "execution_count": null,
   "metadata": {},
   "outputs": [],
   "source": [
    "# Drop features that could not be found in the questionnaire \n",
    "questionnaire_data_processed = questionnaire_data_processed.drop(columns=['JDPN_NCP', 'JDPN_PCT'])\n",
    "df = df.drop(columns=['JDPN_NCP', 'JDPN_PCT'])"
   ]
  },
  {
   "cell_type": "code",
   "execution_count": null,
   "metadata": {},
   "outputs": [],
   "source": [
    "# Create a list of the features with data type 'object'\n",
    "object_columns = questionnaire_data_processed.select_dtypes(include=['object']).columns.tolist()"
   ]
  },
  {
   "cell_type": "code",
   "execution_count": null,
   "metadata": {},
   "outputs": [],
   "source": [
    "# Drop the columns that are of dtype object because they cannot be found back in the questionnaire \n",
    "questionnaire_data_processed = questionnaire_data_processed.drop(columns=object_columns)\n",
    "df = df.drop(columns=object_columns)"
   ]
  },
  {
   "cell_type": "code",
   "execution_count": null,
   "metadata": {},
   "outputs": [],
   "source": [
    "# questionnaire_data_processed.to_csv('../Processed datasets/cleaned_data/questionnaire_data_clean_with_target.csv', index=False)"
   ]
  },
  {
   "cell_type": "code",
   "execution_count": null,
   "metadata": {},
   "outputs": [],
   "source": [
    "#df.to_csv('../Processed datasets/cleaned_data/fulldata_questionnaire_data_clean.csv', index=False)"
   ]
  },
  {
   "cell_type": "markdown",
   "metadata": {},
   "source": [
    "#### FFQ data"
   ]
  },
  {
   "cell_type": "code",
   "execution_count": null,
   "metadata": {},
   "outputs": [],
   "source": [
    "missing_df_FFQ = missing_values_columns(FFQ_data)\n",
    "missing_df_FFQ['percent_missing'].hist(bins=100)"
   ]
  },
  {
   "cell_type": "code",
   "execution_count": null,
   "metadata": {},
   "outputs": [],
   "source": [
    "# Create a list with all columns from the FFQ data\n",
    "FFQ_columns = FFQ_data.columns.tolist()"
   ]
  },
  {
   "cell_type": "code",
   "execution_count": null,
   "metadata": {},
   "outputs": [],
   "source": [
    "# Remove the administrative variables from the list \n",
    "admin = ['Id_random_DPUK','JFFQDOC','JFFQDOR']\n",
    "for item in admin:\n",
    "    FFQ_columns.remove(item)"
   ]
  },
  {
   "cell_type": "code",
   "execution_count": null,
   "metadata": {},
   "outputs": [],
   "source": [
    "# Remove participants that did not fill in the FFQ \n",
    "FFQ_data = FFQ_data.dropna(subset=FFQ_columns, how='all')\n",
    "df = df.dropna(subset=FFQ_columns, how='all')"
   ]
  },
  {
   "cell_type": "code",
   "execution_count": null,
   "metadata": {},
   "outputs": [],
   "source": [
    "FFQ_data_processed = FFQ_data.copy()"
   ]
  },
  {
   "cell_type": "code",
   "execution_count": null,
   "metadata": {},
   "outputs": [],
   "source": [
    "# Remove open ended questions because we do not have the information \n",
    "columns_to_throw = FFQ_data.columns[FFQ_data.columns.str.endswith(tuple(str(i) for i in range(10)))]\n",
    "columns_to_throw\n",
    "\n",
    "FFQ_data_processed.drop(columns=columns_to_throw, inplace=True)\n",
    "df.drop(columns=columns_to_throw, inplace=True)"
   ]
  },
  {
   "cell_type": "code",
   "execution_count": null,
   "metadata": {},
   "outputs": [],
   "source": [
    "# Drop the dates that show when someone filled in the FFQ \n",
    "dates = ['JFFQDOC', 'JFFQDOR']\n",
    "\n",
    "FFQ_data_processed.drop(columns=dates, inplace=True)\n",
    "df.drop(columns=dates, inplace=True)"
   ]
  },
  {
   "cell_type": "code",
   "execution_count": null,
   "metadata": {},
   "outputs": [],
   "source": [
    "missing_df_FFQ = missing_values_columns(FFQ_data_processed)\n",
    "missing_df_FFQ"
   ]
  },
  {
   "cell_type": "code",
   "execution_count": null,
   "metadata": {},
   "outputs": [],
   "source": [
    "# Set diet length to 0 if someone is not on a slimming diet \n",
    "FFQ_data_processed.loc[FFQ_data_processed['JDIET']==2, 'JDIETLNG'] = 0 \n",
    "df.loc[df['JDIET']==2, 'JDIETLNG'] = 0 "
   ]
  },
  {
   "cell_type": "code",
   "execution_count": null,
   "metadata": {},
   "outputs": [],
   "source": [
    "# Remove whether people eat any other foods more than once a week because a lot of data is missing\n",
    "# and we do not have the information about what kind of food\n",
    "FFQ_data_processed = FFQ_data_processed.drop(columns=['JFOODOTH'])\n",
    "df = df.drop(columns=['JFOODOTH'])"
   ]
  },
  {
   "cell_type": "code",
   "execution_count": null,
   "metadata": {},
   "outputs": [],
   "source": [
    "# Seperate the features into binary and non binary features\n",
    "binary_features_FFQ = []\n",
    "\n",
    "non_binary_features_FFQ =[]\n",
    "\n",
    "for column in FFQ_data_processed.columns:\n",
    "    if FFQ_data_processed[column].nunique() > 2:\n",
    "        non_binary_features_FFQ.append(column)\n",
    "    else:\n",
    "        binary_features_FFQ.append(column)"
   ]
  },
  {
   "cell_type": "code",
   "execution_count": null,
   "metadata": {},
   "outputs": [],
   "source": [
    "binary_features_FFQ"
   ]
  },
  {
   "cell_type": "code",
   "execution_count": null,
   "metadata": {},
   "outputs": [],
   "source": [
    "# Fill the question about whether the food in the FFQ is representative with the mode \n",
    "FFQ_data_processed['JREPRES'].value_counts().plot(kind='bar')\n",
    "FFQ_data_processed.loc[:,'JREPRES'] = FFQ_data_processed['JREPRES'].fillna(1.0)\n",
    "df.loc[:,'JREPRES'] = df['JREPRES'].fillna(1.0)"
   ]
  },
  {
   "cell_type": "code",
   "execution_count": null,
   "metadata": {},
   "outputs": [],
   "source": [
    "# Assumption that everyone who did not tick a box in case of a follow up question meant the option 'no'\n",
    "for column in binary_features_FFQ:\n",
    "    FFQ_data_processed.loc[:,column] = FFQ_data_processed[column].fillna(2)\n",
    "    df.loc[:,column] = df[column].fillna(2)"
   ]
  },
  {
   "cell_type": "code",
   "execution_count": null,
   "metadata": {},
   "outputs": [],
   "source": [
    "# Remove the participant ID from the list of non binary features \n",
    "non_binary_features_FFQ.remove('Id_random_DPUK')"
   ]
  },
  {
   "cell_type": "code",
   "execution_count": null,
   "metadata": {},
   "outputs": [],
   "source": [
    "# Assumption that everyone that did not tick a box in case of a food frequency question did not eat that specific food \n",
    "for column in non_binary_features_FFQ:\n",
    "    FFQ_data_processed.loc[:,column] = FFQ_data_processed[column].fillna(1)\n",
    "    df.loc[:,column] = df[column].fillna(1)"
   ]
  },
  {
   "cell_type": "markdown",
   "metadata": {},
   "source": [
    "#### Correct dtypes "
   ]
  },
  {
   "cell_type": "code",
   "execution_count": null,
   "metadata": {},
   "outputs": [],
   "source": [
    "# Create a function that changes datatypes from floats to integers \n",
    "def convert_floats_to_int(dataframe, columns):\n",
    "    for column in columns:\n",
    "        dataframe[column] = dataframe[column].astype(int)\n",
    "    return dataframe"
   ]
  },
  {
   "cell_type": "code",
   "execution_count": null,
   "metadata": {},
   "outputs": [],
   "source": [
    "# Transform all datatypes to integers \n",
    "FFQ_data_processed = convert_floats_to_int(FFQ_data_processed, binary_features_FFQ)\n",
    "FFQ_data_processed = convert_floats_to_int(FFQ_data_processed, non_binary_features_FFQ)\n",
    "\n",
    "df = convert_floats_to_int(df, binary_features_FFQ)\n",
    "df = convert_floats_to_int(df, non_binary_features_FFQ)"
   ]
  },
  {
   "cell_type": "code",
   "execution_count": null,
   "metadata": {},
   "outputs": [],
   "source": [
    "#df.to_csv('../Processed datasets/cleaned_data/questionnaire_FFQ_data__with_target_clean.csv', index=False)"
   ]
  },
  {
   "cell_type": "code",
   "execution_count": null,
   "metadata": {},
   "outputs": [],
   "source": [
    "#FFQ_data_processed.to_csv('../Processed datasets/cleaned_data/FFQ_data_clean.csv', index=False)"
   ]
  },
  {
   "cell_type": "markdown",
   "metadata": {},
   "source": [
    "#### Clinical measure data "
   ]
  },
  {
   "cell_type": "code",
   "execution_count": null,
   "metadata": {},
   "outputs": [],
   "source": [
    "missing_df_clinical_measure = missing_values_columns(clinical_measure_data)\n",
    "missing_df_clinical_measure['percent_missing'].hist(bins=100)"
   ]
  },
  {
   "cell_type": "code",
   "execution_count": null,
   "metadata": {},
   "outputs": [],
   "source": [
    "clinical_measures_processed = clinical_measure_data.copy()"
   ]
  },
  {
   "cell_type": "code",
   "execution_count": null,
   "metadata": {},
   "outputs": [],
   "source": [
    "# Create a function that removes the features with missing data above a chosen threshold \n",
    "def remove_columns_with_missing_values(dataframe, missing_values_dataframe, threshold):\n",
    "    remove = missing_values_dataframe[missing_values_dataframe.iloc[:, 1]>threshold].iloc[:,0].tolist()\n",
    "    print(\"The number of columns that will be removed is\",len(remove))\n",
    "    dataframe = dataframe.drop(columns=remove)\n",
    "    return dataframe "
   ]
  },
  {
   "cell_type": "code",
   "execution_count": null,
   "metadata": {},
   "outputs": [],
   "source": [
    "# Remove all the clinical measure features that have more than 40% missing values \n",
    "clinical_measures_processed = remove_columns_with_missing_values(clinical_measures_processed, missing_df_clinical_measure, 40)\n",
    "df = remove_columns_with_missing_values(df, missing_df_clinical_measure, 40)"
   ]
  },
  {
   "cell_type": "code",
   "execution_count": null,
   "metadata": {},
   "outputs": [],
   "source": [
    "# Create a dataframe with only the features with dtype object to inspect what type of features they are \n",
    "object_columns = clinical_measures_processed.select_dtypes(include=['object']).columns.tolist()\n",
    "object_df = clinical_measures_processed[object_columns]\n",
    "object_df"
   ]
  },
  {
   "cell_type": "code",
   "execution_count": null,
   "metadata": {},
   "outputs": [],
   "source": [
    "# Convert the feature about left or right arms into a binary variable represented by 0 and 1 \n",
    "columns_to_convert_to_binary = ['JBLDARM', 'JBLD2ARM']\n",
    "for column in columns_to_convert_to_binary:\n",
    "    clinical_measures_processed.loc[:,column] = clinical_measures_processed[column].map({'L':0, 'R':1})\n",
    "    df.loc[:,column] = df[column].map({'L':0, 'R':1})"
   ]
  },
  {
   "cell_type": "code",
   "execution_count": null,
   "metadata": {},
   "outputs": [],
   "source": [
    "# Create a list with all time stamp data \n",
    "time_list = object_df.columns.to_list()\n",
    "time_list.remove('JBLDARM')\n",
    "time_list.remove('JBLD2ARM')"
   ]
  },
  {
   "cell_type": "code",
   "execution_count": null,
   "metadata": {},
   "outputs": [],
   "source": [
    "# Drop all time stamp variables \n",
    "clinical_measures_processed = clinical_measures_processed.drop(columns=time_list)\n",
    "df = df.drop(columns=time_list)"
   ]
  },
  {
   "cell_type": "code",
   "execution_count": null,
   "metadata": {},
   "outputs": [],
   "source": [
    "missing_df_clinical_measure = missing_values_columns(clinical_measures_processed)\n",
    "missing_df_clinical_measure"
   ]
  },
  {
   "cell_type": "code",
   "execution_count": null,
   "metadata": {},
   "outputs": [],
   "source": [
    "columns_with_inf = [col for col in clinical_measures_processed.columns if clinical_measures_processed[col].isin([np.inf, -np.inf]).any()]"
   ]
  },
  {
   "cell_type": "code",
   "execution_count": null,
   "metadata": {},
   "outputs": [],
   "source": [
    "clinical_measures_processed = clinical_measures_processed.drop(columns=columns_with_inf)\n",
    "df = df.drop(columns=columns_with_inf)"
   ]
  },
  {
   "cell_type": "markdown",
   "metadata": {},
   "source": [
    "#### Clinical events data"
   ]
  },
  {
   "cell_type": "code",
   "execution_count": null,
   "metadata": {},
   "outputs": [],
   "source": [
    "missing_df_clinical_events = missing_values_columns(clinical_events_data)\n",
    "missing_df_clinical_events['percent_missing'].hist(bins=100)"
   ]
  },
  {
   "cell_type": "code",
   "execution_count": null,
   "metadata": {},
   "outputs": [],
   "source": [
    "clinical_events_processed = clinical_events_data.copy()"
   ]
  },
  {
   "cell_type": "code",
   "execution_count": null,
   "metadata": {},
   "outputs": [],
   "source": [
    "# Create a dataframe with only the features with dtype object to inspect what type of features they are \n",
    "object_columns = clinical_events_processed.select_dtypes(include=['object']).columns.tolist()\n",
    "objects_CE = clinical_events_processed[object_columns]\n",
    "objects_CE"
   ]
  },
  {
   "cell_type": "code",
   "execution_count": null,
   "metadata": {},
   "outputs": [],
   "source": [
    "# Dropping all columns with dtype object \n",
    "clinical_events_processed = clinical_events_processed.drop(columns=object_columns)\n",
    "df = df.drop(columns=object_columns)"
   ]
  },
  {
   "cell_type": "code",
   "execution_count": null,
   "metadata": {},
   "outputs": [],
   "source": [
    "# Create a list with all the features that carry information about clinical events after phase 9 \n",
    "future_columns = clinical_events_processed.filter(regex='^(ej|dj|ij|hj19|EJ21)')\n",
    "future_columns_list = future_columns.columns.tolist()"
   ]
  },
  {
   "cell_type": "code",
   "execution_count": null,
   "metadata": {},
   "outputs": [],
   "source": [
    "# Drop all features that carry information about clinical events after phase 9 \n",
    "clinical_events_processed = clinical_events_processed.drop(columns=future_columns_list)\n",
    "df = df.drop(columns=future_columns_list)"
   ]
  },
  {
   "cell_type": "markdown",
   "metadata": {},
   "source": [
    "#### Data splitting"
   ]
  },
  {
   "cell_type": "code",
   "execution_count": null,
   "metadata": {},
   "outputs": [],
   "source": [
    "# Seperate the predictors and the outcome variable\n",
    "X = df.drop('diabetic_outcome', axis=1)\n",
    "y = df['diabetic_outcome']"
   ]
  },
  {
   "cell_type": "code",
   "execution_count": null,
   "metadata": {},
   "outputs": [],
   "source": [
    "# Split the data into a train set of 60%, a validation set of 20% and a test set of 20% \n",
    "X_train, X_test, y_train, y_test = train_test_split(X, y, test_size=0.2, stratify=y, random_state=42)\n",
    "X_train, X_val, y_train, y_val = train_test_split(X_train, y_train, test_size=0.25, stratify=y_train, random_state=42)\n",
    "\n",
    "print(\"Train set shape:\", X_train.shape)\n",
    "print(\"Validation set shape:\", X_val.shape)\n",
    "print(\"Test set shape:\", X_test.shape)"
   ]
  },
  {
   "cell_type": "code",
   "execution_count": null,
   "metadata": {},
   "outputs": [],
   "source": [
    "# Add the splited dataframes to a list \n",
    "predictor_dataframes = [X_train, X_val, X_test]"
   ]
  },
  {
   "cell_type": "markdown",
   "metadata": {},
   "source": [
    "#### Imputation"
   ]
  },
  {
   "cell_type": "markdown",
   "metadata": {},
   "source": [
    "#### Assets"
   ]
  },
  {
   "cell_type": "code",
   "execution_count": null,
   "metadata": {},
   "outputs": [],
   "source": [
    "# The missing values for the ASSET questions are filled with the mode\n",
    "for df in predictor_dataframes:\n",
    "    mode_value_assets = df['JASSETXH'].mode()[0]\n",
    "    df['JASSETXH'] = df['JASSETXH'].fillna(mode_value_assets)"
   ]
  },
  {
   "cell_type": "code",
   "execution_count": null,
   "metadata": {},
   "outputs": [],
   "source": [
    "for df in predictor_dataframes:\n",
    "    mode_value_assets = df['JASSETHH'].mode()[0]\n",
    "    df['JASSETHH'] = df['JASSETHH'].fillna(mode_value_assets)"
   ]
  },
  {
   "cell_type": "markdown",
   "metadata": {},
   "source": [
    "#### Medical consultation"
   ]
  },
  {
   "cell_type": "code",
   "execution_count": null,
   "metadata": {},
   "outputs": [],
   "source": [
    "# The missing values related to how many times have consulted their GP in the last month is filled with the mean\n",
    "for df in predictor_dataframes:\n",
    "    mean_value_MC = questionnaire_data_processed['JGPVISYR'].mean()\n",
    "    df['JGPVISYR'] = df['JGPVISYR'].fillna(mean_value_MC)"
   ]
  },
  {
   "cell_type": "markdown",
   "metadata": {},
   "source": [
    "#### Total income"
   ]
  },
  {
   "cell_type": "code",
   "execution_count": null,
   "metadata": {},
   "outputs": [],
   "source": [
    "# The small percentage of missing values related to the total income are filled with the mode\n",
    "for df in predictor_dataframes:\n",
    "    mode_value_TI = df['JINCHH'].mode()[0]\n",
    "    df['JINCHH'] = df['JINCHH'].fillna(mode_value_TI)"
   ]
  },
  {
   "cell_type": "markdown",
   "metadata": {},
   "source": [
    "#### JDPN features"
   ]
  },
  {
   "cell_type": "code",
   "execution_count": null,
   "metadata": {},
   "outputs": [],
   "source": [
    "# Create a list with all the questions related to behavioural statements \n",
    "JDPN_list = [f\"JDPN{str(i).zfill(2)}\" for i in range(1,21)]"
   ]
  },
  {
   "cell_type": "code",
   "execution_count": null,
   "metadata": {},
   "outputs": [],
   "source": [
    "# Fill the missing values for the columns in the created list with the mode \n",
    "for df in predictor_dataframes:\n",
    "    for item in JDPN_list:\n",
    "        mode_value = df[item].mode()[0]\n",
    "        df[item] = df[item].fillna(mode_value)"
   ]
  },
  {
   "cell_type": "code",
   "execution_count": null,
   "metadata": {},
   "outputs": [],
   "source": [
    "# The remainder of the columns only have a very small percentage of missing values\n",
    "# Considering the questions are multiple choice, the resulting NaNs are filled with the mode (representing the box that is chosen the most often)\n",
    "for df in predictor_dataframes:\n",
    "    for column in questionnaire_data_processed.columns:\n",
    "        if column in df.columns:\n",
    "            mode_value = df[column].mode()[0]\n",
    "            df[column] = df[column].fillna(mode_value)"
   ]
  },
  {
   "cell_type": "code",
   "execution_count": null,
   "metadata": {},
   "outputs": [],
   "source": [
    "# Create a list with the behavioural statements that need to be reverse coded because of differences in sentiment \n",
    "JDPN_list_complete = extract_strings_starting_with(missing_df_questionnaire, 'column_name', 'JDPN')\n",
    "JDPN_list_complete = [item for item in JDPN_list_complete if item not in JDPN_list]\n",
    "print(JDPN_list_complete)"
   ]
  },
  {
   "cell_type": "code",
   "execution_count": null,
   "metadata": {},
   "outputs": [],
   "source": [
    "must_be_removed =['JDPN_NCP', 'JDPN_PCT','JDPN_SUM']\n",
    "for item in must_be_removed:\n",
    "    JDPN_list_complete.remove(item)"
   ]
  },
  {
   "cell_type": "code",
   "execution_count": null,
   "metadata": {},
   "outputs": [],
   "source": [
    "JDPN_list_reversed = JDPN_list_complete"
   ]
  },
  {
   "cell_type": "code",
   "execution_count": null,
   "metadata": {},
   "outputs": [],
   "source": [
    "# Reverse code the columns without the missing values \n",
    "scale_min = 0\n",
    "scale_max = 4   \n",
    "\n",
    "for df in predictor_dataframes:\n",
    "    max_plus_one = 4\n",
    "    df[JDPN_list_reversed] = max_plus_one - df[JDPN_list_reversed]"
   ]
  },
  {
   "cell_type": "code",
   "execution_count": null,
   "metadata": {},
   "outputs": [],
   "source": [
    "# Convert all the multiple choice questions from floats to integers\n",
    "admin = ['JWITHDRW', 'JPART', 'JPARTTYP', 'JQUESTYP', 'JSITE', 'JAGE_Q', 'JPROXY', 'JDATCOMP', 'JDATEOR', 'JVERSION', 'JCOMPLET','JPHDATE','Id_random_DPUK']\n",
    "\n",
    "for df in predictor_dataframes:\n",
    "    for column in questionnaire_data_processed.columns:\n",
    "        if column not in admin and questionnaire_data_processed[column].dtype == float:\n",
    "            df[column] = df[column].astype(int)"
   ]
  },
  {
   "cell_type": "markdown",
   "metadata": {},
   "source": [
    "## Clinical measures numerical imputation"
   ]
  },
  {
   "cell_type": "code",
   "execution_count": null,
   "metadata": {},
   "outputs": [],
   "source": [
    "for df in predictor_dataframes:\n",
    "    if 'S9DATE.1'in df.columns:\n",
    "        df.drop(columns='S9DATE.1', inplace=True)"
   ]
  },
  {
   "cell_type": "code",
   "execution_count": null,
   "metadata": {},
   "outputs": [],
   "source": [
    "X_train_ids = X_train['Id_random_DPUK']\n",
    "X_val_ids = X_val['Id_random_DPUK']\n",
    "X_test_ids = X_test['Id_random_DPUK']"
   ]
  },
  {
   "cell_type": "code",
   "execution_count": null,
   "metadata": {},
   "outputs": [],
   "source": [
    "X_train.drop(columns='Id_random_DPUK', inplace=True)\n",
    "X_val.drop(columns='Id_random_DPUK', inplace=True)\n",
    "X_test.drop(columns='Id_random_DPUK', inplace=True)"
   ]
  },
  {
   "cell_type": "code",
   "execution_count": null,
   "metadata": {},
   "outputs": [],
   "source": [
    "original_dtypes = X_train.dtypes"
   ]
  },
  {
   "cell_type": "code",
   "execution_count": null,
   "metadata": {},
   "outputs": [],
   "source": [
    "imputer = KNNImputer(n_neighbors=1)\n",
    "\n",
    "X_train_imputed = pd.DataFrame(imputer.fit_transform(X_train), columns=X_train.columns, index=X_train.index)\n",
    "X_val_imputed = pd.DataFrame(imputer.transform(X_val), columns=X_val.columns, index=X_val.index)\n",
    "X_test_imputed = pd.DataFrame(imputer.transform(X_test), columns=X_test.columns, index=X_test.index)"
   ]
  },
  {
   "cell_type": "code",
   "execution_count": null,
   "metadata": {},
   "outputs": [],
   "source": [
    "for col in original_dtypes.index:\n",
    "    X_train_imputed[col] = X_train_imputed[col].astype(original_dtypes[col])\n",
    "    X_val_imputed[col] = X_val_imputed[col].astype(original_dtypes[col])\n",
    "    X_test_imputed[col] = X_test_imputed[col].astype(original_dtypes[col])\n"
   ]
  },
  {
   "cell_type": "code",
   "execution_count": null,
   "metadata": {},
   "outputs": [],
   "source": [
    "X_train_imputed  = pd.concat([X_train_ids, X_train_imputed], axis=1)\n",
    "X_val_imputed  = pd.concat([X_val_ids, X_val_imputed], axis=1)\n",
    "X_test_imputed  = pd.concat([X_test_ids, X_test_imputed], axis=1)"
   ]
  },
  {
   "cell_type": "code",
   "execution_count": null,
   "metadata": {},
   "outputs": [],
   "source": [
    "X_train_imputed.to_csv('../cleaned_imputed_split/X_train.csv', index=False)"
   ]
  },
  {
   "cell_type": "code",
   "execution_count": null,
   "metadata": {},
   "outputs": [],
   "source": [
    "X_val_imputed.to_csv('../cleaned_imputed_split/X_val.csv', index=False)"
   ]
  },
  {
   "cell_type": "code",
   "execution_count": null,
   "metadata": {},
   "outputs": [],
   "source": [
    "X_test_imputed.to_csv('../cleaned_imputed_split/X_test.csv', index=False)"
   ]
  },
  {
   "cell_type": "code",
   "execution_count": null,
   "metadata": {},
   "outputs": [],
   "source": [
    "y_train.to_csv('../cleaned_imputed_split/y_train.csv', index=False)"
   ]
  },
  {
   "cell_type": "code",
   "execution_count": null,
   "metadata": {},
   "outputs": [],
   "source": [
    "y_val.to_csv('../cleaned_imputed_split/y_val.csv', index=False)"
   ]
  },
  {
   "cell_type": "code",
   "execution_count": null,
   "metadata": {},
   "outputs": [],
   "source": [
    "y_test.to_csv('../cleaned_imputed_split/y_test.csv', index=False)"
   ]
  }
 ],
 "metadata": {
  "kernelspec": {
   "display_name": "Python 3 (ipykernel)",
   "language": "python",
   "name": "python3"
  },
  "language_info": {
   "codemirror_mode": {
    "name": "ipython",
    "version": 3
   },
   "file_extension": ".py",
   "mimetype": "text/x-python",
   "name": "python",
   "nbconvert_exporter": "python",
   "pygments_lexer": "ipython3",
   "version": "3.11.7"
  }
 },
 "nbformat": 4,
 "nbformat_minor": 4
}
