{
 "cells": [
  {
   "cell_type": "code",
   "execution_count": null,
   "metadata": {},
   "outputs": [],
   "source": [
    "# Import necessary packages\n",
    "import pandas as pd\n",
    "import pickle\n",
    "import numpy as np\n",
    "from sklearn.model_selection import train_test_split\n",
    "import matplotlib.pyplot as plt"
   ]
  },
  {
   "cell_type": "markdown",
   "metadata": {},
   "source": [
    "##### Extract one individual dataframe per type of data (questionnaire, FFQ, clinical measures and clinical events)"
   ]
  },
  {
   "cell_type": "code",
   "execution_count": null,
   "metadata": {},
   "outputs": [],
   "source": [
    "# Import dictionary the complete Whitehall II dictionary\n",
    "xls = pd.ExcelFile('../Whitehall/W2_data_dictionary_DPUK_v0.5.xlsx')\n",
    "\n",
    "# Create multiple DataFrames of the different sheets in the Whitehall II dictionary\n",
    "questionnaire = pd.read_excel(xls, 'Questionnaire')\n",
    "FFQ = pd.read_excel(xls, 'FFQ')\n",
    "clinical_measures = pd.read_excel(xls, 'Clinical_measures')\n",
    "clinical_events = pd.read_excel(xls, 'Clinical_events')\n",
    "\n",
    "# Create a list containing the dataframes that have phases 9 till 11 \n",
    "df_list = [questionnaire, FFQ, clinical_measures, clinical_events]"
   ]
  },
  {
   "cell_type": "code",
   "execution_count": null,
   "metadata": {},
   "outputs": [],
   "source": [
    "# A function that removes all features that were not collected in phase 9 and only keeps useful information\n",
    "def subset_dataframes(dataframes, columns_to_keep):\n",
    "    modified_dfs =[]\n",
    "    for df in dataframes:\n",
    "        # Remove the rows that miss all values for phase 9 \n",
    "        df = df.dropna(subset=['PHASE9'])\n",
    "\n",
    "        # Only keep specified columns \n",
    "        modified_df = df[columns_to_keep]\n",
    "\n",
    "        # Add the dataframe to a list \n",
    "        modified_dfs.append(modified_df)\n",
    "    return modified_dfs\n",
    "\n",
    "modified_dfs = subset_dataframes(df_list, ['CATEGORY', 'SUBCATEGORY', 'DESCRIPTION', 'PHASE9'])"
   ]
  },
  {
   "cell_type": "code",
   "execution_count": null,
   "metadata": {},
   "outputs": [],
   "source": [
    "# Give data frames in the modified_dfs list an interpretable name, and add the new names to a list\n",
    "questionnaire_mod = modified_dfs[0]\n",
    "FFQ_mod = modified_dfs[1]\n",
    "clinical_measures_mod = modified_dfs[2]\n",
    "clinical_events_mod = modified_dfs[3]\n",
    "\n",
    "modified_df_list = [questionnaire_mod, FFQ_mod, clinical_measures_mod, clinical_events_mod]"
   ]
  },
  {
   "cell_type": "code",
   "execution_count": null,
   "metadata": {},
   "outputs": [],
   "source": [
    "# A function that creates a dictionary where:\n",
    "# Keys are the type of data (questionnaire, FFQ, clinical measures and clinical events)\n",
    "# And the items corresponding to the keys are the column names \n",
    "\n",
    "def variables_to_dict(dataframes, key_names, column_name, result_dict):\n",
    "    for df, key_name in zip(dataframes, key_names):\n",
    "        result_dict[key_name] = df[column_name].to_list()\n",
    "\n",
    "# Create a list of interpretable key names\n",
    "key_names = ['questionnaire_fts', 'FFQ_fts', 'clinical_measures_fts', 'clinical_events_fts']\n",
    "column_name = 'PHASE9'\n",
    "\n",
    "# Create an empty dictionary that can be used to save the variable names per data type \n",
    "columns_whitehall = {}\n",
    "\n",
    "variables_to_dict(modified_df_list, key_names, column_name, columns_whitehall)\n",
    "\n",
    "print(columns_whitehall)"
   ]
  },
  {
   "cell_type": "code",
   "execution_count": null,
   "metadata": {},
   "outputs": [],
   "source": [
    "# Save dictionary to access later \n",
    "with open('../Processed datasets/feature_dictionary.pkl', 'wb') as f:\n",
    "    pickle.dump(columns_whitehall, f)"
   ]
  },
  {
   "cell_type": "code",
   "execution_count": null,
   "metadata": {},
   "outputs": [],
   "source": [
    "# Load dictionary from files to use\n",
    "with open('../Processed datasets/feature_dictionary.pkl', 'rb') as f:\n",
    "    columns_whitehall = pickle.load(f)"
   ]
  },
  {
   "cell_type": "markdown",
   "metadata": {},
   "source": [
    "#### Subset the data based on the selected features from phase 9"
   ]
  },
  {
   "cell_type": "code",
   "execution_count": null,
   "metadata": {},
   "outputs": [],
   "source": [
    "# Import Whitehall II dataset\n",
    "df = pd.read_csv('../Whitehall/0620_DATASET.csv')"
   ]
  },
  {
   "cell_type": "code",
   "execution_count": null,
   "metadata": {},
   "outputs": [],
   "source": [
    "# Make a list of variables that are not from phase 9 but should be kept because they are necessary for creating the target variable\n",
    "target_fts = [\"KDIABYR\", \"FDRG0612\", \"FDRG6122\",\"FDRG6120\", \n",
    "              \"FDRG6123\", \"FDRG6121\", \"FDRG0611\",\n",
    "              \"FDRG6112\", \"FDRG6110\", \"FDRG6111\",'FHBA']"
   ]
  },
  {
   "cell_type": "code",
   "execution_count": null,
   "metadata": {},
   "outputs": [],
   "source": [
    "# Make a list of features that were collected in phase 9 \n",
    "selected_columns = []\n",
    "for key, columns in columns_whitehall.items():\n",
    "    selected_columns.extend(columns)"
   ]
  },
  {
   "cell_type": "code",
   "execution_count": null,
   "metadata": {},
   "outputs": [],
   "source": [
    "# Add all required features to one list to subset the complete Whitehall II dataset accordingly \n",
    "all_columns = ['Id_random_DPUK'] + target_fts + selected_columns \n",
    "df_complete = df[all_columns].copy()"
   ]
  },
  {
   "cell_type": "markdown",
   "metadata": {},
   "source": [
    "#### Create one big dataframe with all the necessary data "
   ]
  },
  {
   "cell_type": "code",
   "execution_count": null,
   "metadata": {},
   "outputs": [],
   "source": [
    "# Import the separate data file that needs to be merged with the filtered Whitehall dataset\n",
    "basics = pd.read_csv('../Whitehall/ADDITIONAL VARIABLES/0620v2_DATASET.csv')"
   ]
  },
  {
   "cell_type": "code",
   "execution_count": null,
   "metadata": {},
   "outputs": [],
   "source": [
    "# Merge the features of phase 9 with the basic data of respondents \n",
    "total_df = pd.merge(df_complete, basics, on='Id_random_DPUK', how='inner')\n",
    "total_df"
   ]
  },
  {
   "cell_type": "code",
   "execution_count": null,
   "metadata": {},
   "outputs": [],
   "source": [
    "# Remove all the participants where Haemoglobine A-1C is unknown in phase 11\n",
    "df_hgb = total_df[total_df[\"FHBA\"].notna()].copy()"
   ]
  },
  {
   "cell_type": "markdown",
   "metadata": {},
   "source": [
    "#### Remove the participants that did not participate in any of the data collection efforts of phase 9"
   ]
  },
  {
   "cell_type": "code",
   "execution_count": null,
   "metadata": {},
   "outputs": [],
   "source": [
    "# Remove all the participants who did not participate at all in Phase 9\n",
    "df_phase9 = df_hgb.loc[df_hgb['JPART'] == 1].copy()"
   ]
  },
  {
   "cell_type": "markdown",
   "metadata": {},
   "source": [
    "#### Create outcome variable"
   ]
  },
  {
   "cell_type": "code",
   "execution_count": null,
   "metadata": {},
   "outputs": [],
   "source": [
    "# Create a function that determines whether someone is diagnosed with diabetes before or after 18\n",
    "def diagnosed_before_18(row):\n",
    "\n",
    "    # Calculate the age of diagnosis \n",
    "    age_diagnosed8 = row[\"KDIABYR\"] - 1900 - row['YOB_C']\n",
    "    age_diagnosed9 = row[\"JDIABYR\"] - 1900 - row['YOB_C']\n",
    "\n",
    "    # Initialize the result as NaN\n",
    "    result = np.nan\n",
    "\n",
    "    # Determine if someone is diagnosed before 18 \n",
    "    if age_diagnosed8 < 18:\n",
    "        result = True\n",
    "    elif age_diagnosed8 >= 18:\n",
    "        result = False\n",
    "    elif age_diagnosed9 < 18:\n",
    "        result = True\n",
    "    if age_diagnosed9 >= 18: # overrule age_diagnosed8 in case patient had developed diabetes later\n",
    "        result = False\n",
    "\n",
    "    return result"
   ]
  },
  {
   "cell_type": "code",
   "execution_count": null,
   "metadata": {},
   "outputs": [],
   "source": [
    "# Create a function that determines whether a participant has Diabetes Type 1 \n",
    "def only_takes_insulin(row):\n",
    "\n",
    "    total_oral_tablets = 0\n",
    "     \n",
    "    oral_tablets_row = row[[\"JDRG0612\", \"FDRG0612\",\n",
    "                           \"JDRG6122\", \"FDRG6122\",\n",
    "                           \"JDRG6120\", \"FDRG6120\",\n",
    "                           \"JDRG6123\", \"FDRG6123\",\n",
    "                           \"JDRG6121\", \"FDRG6121\"]].copy()\n",
    "    \n",
    "    insulin_row = row[[\"JDRG0611\", \"FDRG0611\",\n",
    "                    \"JDRG6112\", \"FDRG6112\",\n",
    "                    \"JDRG6110\", \"FDRG6110\",\n",
    "                    \"JDRG6111\", \"FDRG6111\"]].copy()\n",
    "\n",
    "    # Check if someone uses oral diabetes tablets \n",
    "    if oral_tablets_row.sum() >= 1:\n",
    "        return False\n",
    "    # Check if someone uses insulin     \n",
    "    elif insulin_row.sum() >= 1:\n",
    "        return True\n",
    "    # Return NaN if someone does not use oral tablets or insulin    \n",
    "    else:\n",
    "        return np.nan"
   ]
  },
  {
   "cell_type": "code",
   "execution_count": null,
   "metadata": {},
   "outputs": [],
   "source": [
    "# Create a function that determines whether someone's haemoglobin A1C values are above the set 7% diabetes threshold \n",
    "# 0 means no diabetes\n",
    "# 1 means diabetes type 1\n",
    "# 2 means diabetes type 2 only in Phase 11\n",
    "# 3 means diabetes type 2 only Phase 9 \n",
    "# 4 means diabetes in Phases 9 and 11 \n",
    "\n",
    "def high_hba1c(row):\n",
    "\n",
    "    if row[\"JHBA\"] <= 7 and row[\"FHBA\"] <= 7:\n",
    "        return 0\n",
    "    elif row[\"JHBA\"] <= 7 and row[\"FHBA\"] > 7:\n",
    "        return 2\n",
    "    elif row[\"JHBA\"] > 7 and row[\"FHBA\"] <= 7:\n",
    "        return 3 \n",
    "    else:\n",
    "        return 4 "
   ]
  },
  {
   "cell_type": "code",
   "execution_count": null,
   "metadata": {},
   "outputs": [],
   "source": [
    "# Create a function that determines whether someone had type 2 diabetes in phase 9 and 11 \n",
    "def takes_oral_tablets(row):\n",
    "\n",
    "    oral_tablets_11 = row[[\"FDRG0612\",\n",
    "                           \"FDRG6122\",\n",
    "                           \"FDRG6120\",\n",
    "                           \"FDRG6123\",\n",
    "                           \"FDRG6121\"]].copy()\n",
    "    \n",
    "    oral_tablets_9 = row[[\"JDRG0612\",\n",
    "                           \"JDRG6122\",\n",
    "                           \"JDRG6120\",\n",
    "                           \"JDRG6123\",\n",
    "                           \"JDRG6121\"]].copy()\n",
    "\n",
    "    # If someone uses oral diabetes medicine in phases 9 and 11, return 4\n",
    "    if oral_tablets_11.sum() >= 1 and oral_tablets_9.sum() >= 1:\n",
    "        return 4\n",
    "\n",
    "    # If someone only uses medicine in phase 9, return 3\n",
    "    elif oral_tablets_9.sum() >= 1:\n",
    "        return 3\n",
    "\n",
    "    # If someone only uses medicine in phase 11, return 2 \n",
    "    elif oral_tablets_11.sum() >= 1:\n",
    "        return 2\n",
    "    else:\n",
    "        return np.nan"
   ]
  },
  {
   "cell_type": "code",
   "execution_count": null,
   "metadata": {},
   "outputs": [],
   "source": [
    "# Create a function that determines the target where:\n",
    "# 0 means not diabetic\n",
    "# 1 means diabetic type 1\n",
    "# 2 means diabetic type 2 in phase 11\n",
    "# 3 means diabetic type 2 in phase 9 but not in phase 11\n",
    "# 4 means diabetes type 2 in phase 9 and phase 11\n",
    "\n",
    "def compute_diabetic_outcome(row):\n",
    "\n",
    "    if row[\"diagnosed_before_18\"] == True:\n",
    "        return 1\n",
    "    elif row[\"only_takes_insulin\"] == True:\n",
    "        return 1\n",
    "    elif row[\"high_hba1c\"] == 2:\n",
    "        return 2\n",
    "    elif row[\"high_hba1c\"] == 3:\n",
    "        return 3\n",
    "    elif row[\"high_hba1c\"] == 4:\n",
    "        return 4\n",
    "    elif row[\"takes_oral_tablets\"] == 2:\n",
    "        return 2\n",
    "    elif row[\"takes_oral_tablets\"] == 3:\n",
    "        return 3\n",
    "    elif row[\"takes_oral_tablets\"] == 4:\n",
    "        return 4\n",
    "    else:\n",
    "        return 0"
   ]
  },
  {
   "cell_type": "code",
   "execution_count": null,
   "metadata": {},
   "outputs": [],
   "source": [
    "# Apply defined functions \n",
    "df_phase9[\"diagnosed_before_18\"] = df_phase9.apply(diagnosed_before_18, axis=1)\n",
    "df_phase9[\"only_takes_insulin\"] = df_phase9.apply(only_takes_insulin, axis=1)\n",
    "df_phase9[\"high_hba1c\"] = df_phase9.apply(high_hba1c, axis=1)\n",
    "df_phase9[\"takes_oral_tablets\"] = df_phase9.apply(takes_oral_tablets, axis=1)\n",
    "df_phase9 = df_phase9.drop(df_phase9[(df_phase9[\"high_hba1c\"].isnull()) &\n",
    "           (df_phase9[\"diagnosed_before_18\"].isnull()) & \n",
    "           (df_phase9[\"only_takes_insulin\"].isnull()) & \n",
    "           (df_phase9[\"takes_oral_tablets\"].isnull())].index)\n",
    "df_phase9[\"diabetic_outcome\"] = df_phase9.apply(compute_diabetic_outcome, axis=1)"
   ]
  },
  {
   "cell_type": "code",
   "execution_count": null,
   "metadata": {},
   "outputs": [],
   "source": [
    "# Check the number of participants per diabetic category \n",
    "df_phase9[\"diabetic_outcome\"].value_counts()"
   ]
  },
  {
   "cell_type": "code",
   "execution_count": null,
   "metadata": {},
   "outputs": [],
   "source": [
    " # Drop the features that were created to calculate the target variable \n",
    "df_phase9 = df_phase9.drop([\"diagnosed_before_18\", \"only_takes_insulin\", \"high_hba1c\", \"takes_oral_tablets\"], axis=1)"
   ]
  },
  {
   "cell_type": "code",
   "execution_count": null,
   "metadata": {},
   "outputs": [],
   "source": [
    "# Drop the features that were used to create the features that were used to calculate the target variable \n",
    "df_phase9 = df_phase9.drop(columns=target_fts)"
   ]
  },
  {
   "cell_type": "code",
   "execution_count": null,
   "metadata": {},
   "outputs": [],
   "source": [
    "# Save the dataframe as a csv \n",
    "df_phase9.to_csv('../Processed datasets/Before splitting/DF_with_target.csv', index=False)"
   ]
  }
 ],
 "metadata": {
  "kernelspec": {
   "display_name": "Python 3 (ipykernel)",
   "language": "python",
   "name": "python3"
  },
  "language_info": {
   "codemirror_mode": {
    "name": "ipython",
    "version": 3
   },
   "file_extension": ".py",
   "mimetype": "text/x-python",
   "name": "python",
   "nbconvert_exporter": "python",
   "pygments_lexer": "ipython3",
   "version": "3.11.7"
  }
 },
 "nbformat": 4,
 "nbformat_minor": 4
}
